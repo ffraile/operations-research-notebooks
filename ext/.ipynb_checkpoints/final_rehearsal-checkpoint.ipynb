{
 "cells": [
  {
   "cell_type": "markdown",
   "metadata": {},
   "source": [
    "# Non-Linear Programming\n",
    "## Problem definition\n",
    "You work on the R&D department of Banshee Ltd., a company that manufactures headphones. Through a customer survey you have determined that the level of satisfaction of your headphones is given by the following expression:\n",
    "\n",
    "$z = 5 + ln(x_1) + x_2^2 + x_1*x_2$\n",
    "\n",
    "where $x_1$ is the thickness of the diaphragm in microns and $x_2$ is the radius of the diaphragm in millimeters. Due to design constraints, the volume of the driver, which can be estimated as $0.2*\\pi*x_2*x_1$ cannot be larger than 0.172 cubic millimeters. The properties of the material you use makes it unfeasible to manufacture a diaphragm with a thickness lower than $0.3$ microns or higher than $0.9$ microns.\n",
    "\n",
    "**a** Write a Non-Linear Programming (NLP) problem to find the optimal design specifications (thickness and radius of diaphragm) for Banshee Ltd.\n",
    "\n",
    "\n",
    "\n",
    "\n",
    "**b** Write down the Lagrangian and the Kuhn Tucker conditions\n",
    "\n",
    "\n",
    "\n",
    "**c** A solver gives you the following solution ($x_1 = 0.9$, $x_2 = 0.304$). Determine if it is a local or global maximum\n",
    "\n",
    "# Decision Theory\n",
    "## Problem definition\n",
    "Doctor Stephen Strange is the chief surgeon at the Metropolitan General Hospital in New York. Doctor Strange needs to decide whether to perform surgery or not on a patient with a rare desease. If the patient dies, the hospital must pay a 3M€ compensation, and the cost of the surgery is estimated in 1.5M€. Based on available data, the medical department estimates that the probability of the patient surviving without surgery is 20%, while the probability of the patient surviving with surgery is 75%. Let us use operational research to determine if Doctor Strange should hold the knife:\n",
    "\n",
    "**a.** Draw the decision tree to support doctor Strange with this decision problem\n",
    "\n",
    "**b.** Solve the decision tree\n",
    "\n",
    "**c.** Doctor Strange can use a procedure with a device known as the Eye of Agamoto to get additional information of the result of the surgery, with a cost of 0.5M€. Draw the decision tree incorporating the use of the Eye of Agamoto in the decision problem\n",
    "\n",
    "# Game Theory\n",
    "## Problem definition\n",
    "Two students of EDEM, Jaime and Lucas, are playing a game named Bluff, that goes as follows. Jaime writes a number on a piece of paper. Without showing Lucas what he has written, he tells him what he wrote. Jaime might be lying or telling the truth. Then Lucas must guess if Jaime is lying or telling the truth, or he can choose to pass and not to continue playing. If Lucas discovers that Jaime lied, Jaime must pay Lucas €50. If Lucas wrongly accuses Jaime of lying, Lucas pays him €25. If Jaime told the truth and Lucas guesses this, then Jaime pays Lucas €5. If Jaime lied and Lucas does not guess that he lied, then Lucas pays Jaime €24. Should Lucas decide to pass, then neither player wins or loses anything.\n",
    "\n",
    "**a** Consider this a 2-player’s zero-sum game in game theory and write down the tabular representation.\n",
    "\n",
    "\n",
    "**b** How would you determine the game mean value and the mixed strategies of both players in this case?\n",
    "\n",
    "\n",
    "**c** Using the method seen in class to calculate the mixed strategies, a solver provides the following solution for Lucas (u1=0, u2=0, u3=0.02), where u1 is the decision variable associated to the alternative “Jaime lied”, u2 the decision variable associated to the alternative “Jaime told the truth” and u3 the decision variable associated to “Pass”. Write down the model and determine his optimal strategy.\n",
    "\n",
    "# Markov Chains\n",
    "## Problem Definition\n",
    "Rick & Morty Inc. is a small workshop that specialises in manufacturing special parts for the metallurgical industry. The firms’ personnel comprises the Director Rick (an Industrial Organisation Engineer), the Designer Morty (an Industrial Design Engineer) and three highly specialised Operators. The workshop has two very different areas (A and B) given the type of machinery in them and the kind of works that can be done with it. The three Operators can move between the two areas as they prefer because they can all work on any of the workshop machines. The Director has noticed that the Operators tend to gather in the same area because their performance is enhanced if they help each other. Nevertheless, leaving an area without Operators for several days is not a good option because the tasks in this area are considerably delayed. By analysing last year’s manufacturing reports, the Director has calculated that the two areas were not occupied by the Operators for 30 % of the days. However, the most worrying aspect is that one area can be void of Operators for several days running. Therefore, the Director has decided to set up the following work plan: at the beginning of the working day, the three Operators will enter a draw to see which of them changes area so no area will be empty for more than 1 day running, or so the Director believes.\n",
    "\n",
    "**a)** Consider the problem according to a Markov chain\n",
    "\n",
    "**b)** For what percentage of time will one of the areas be void of Operators?\n",
    "\n",
    "**c)** On average, how much time passes from there being no Operator in one zone to there being one Operator in it? And the time from an area with no Operator until this same situation occurs again?\n"
   ]
  }
 ],
 "metadata": {
  "kernelspec": {
   "display_name": "Python 3 (ipykernel)",
   "language": "python",
   "name": "python3"
  },
  "language_info": {
   "codemirror_mode": {
    "name": "ipython",
    "version": 3
   },
   "file_extension": ".py",
   "mimetype": "text/x-python",
   "name": "python",
   "nbconvert_exporter": "python",
   "pygments_lexer": "ipython3",
   "version": "3.11.1"
  }
 },
 "nbformat": 4,
 "nbformat_minor": 1
}
