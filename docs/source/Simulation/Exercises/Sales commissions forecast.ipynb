{
 "cells": [
  {
   "cell_type": "markdown",
   "metadata": {
    "slideshow": {
     "slide_type": "slide"
    }
   },
   "source": [
    "# Sales commissions forecast\n",
    "\n",
    "## Try me\n",
    " [![Open In Colab](../../_static/colabs_badge.png)](https://colab.research.google.com/github/ffraile/operations-research-notebooks/blob/main/docs/source/Simulation/Exercises/Sales%20commissions%20forecast.ipynb)[![Binder](../../_static/binder_badge.png)](https://mybinder.org/v2/gh/ffraile/operations-research-notebooks/main?labpath=docs%2Fsource%2FSimulation%2FExercises%2FSales%20commissions%20forecast.ipynb)\n",
    "\n",
    "## Problem Definition\n",
    "A company with 5 sales managers wants to provision budget to pay sales commissions to sales managers. The company applies a commission rate based on the percentage of target sales obtained, given by the following table:\n",
    "\n",
    "| Sales / Target ratio \t| Commission Rate \t|\n",
    "|----------------------\t|-----------------\t|\n",
    "| 0-90 %               \t| 2%              \t|\n",
    "| 90-100%               | 3%              \t|\n",
    "| >= 100%              \t| 4%              \t|\n"
   ]
  },
  {
   "cell_type": "markdown",
   "metadata": {
    "slideshow": {
     "slide_type": "fragment"
    }
   },
   "source": [
    "Each salesman will be compensanted with the commission rate times the total sales obtained. The following table shows the target sales for the five sales managers:\n",
    "\n",
    "| Sales Manager \t| Sales Target (€) \t|\n",
    "|---------------\t|------------------\t|\n",
    "| 1             \t| 100,000          \t|\n",
    "| 2             \t| 200,000          \t|\n",
    "| 3             \t| 75,000           \t|\n",
    "| 4             \t| 400,000          \t|\n",
    "| 5             \t| 500,000          \t|\n",
    "\n"
   ]
  },
  {
   "cell_type": "markdown",
   "metadata": {
    "slideshow": {
     "slide_type": "subslide"
    },
    "pycharm": {
     "name": "#%% md\n"
    }
   },
   "source": [
    "**a)** Estimate the budget for sales commissions the company has to pay in the scenario where all sales managers get exactly the 100% of the sales target (naive approach).\n",
    "\n",
    "**b)** The company has a historic record of sales for the five sales managers and from this record, it can estimate that the Percent to Plan (The ratio between the actual sales and the sales target) can be modelled by a normal distribution with a mean of 100% and standard deviation of 10%. Use this insight to estimate the budget for sales commissions using a MonteCarlo distribution. \n",
    "\n"
   ]
  }
 ],
 "metadata": {
  "celltoolbar": "Slideshow",
  "kernelspec": {
   "display_name": "Python 3",
   "language": "python",
   "name": "python3"
  },
  "language_info": {
   "codemirror_mode": {
    "name": "ipython",
    "version": 3
   },
   "file_extension": ".py",
   "mimetype": "text/x-python",
   "name": "python",
   "nbconvert_exporter": "python",
   "pygments_lexer": "ipython3",
   "version": "3.7.4"
  },
  "pycharm": {
   "stem_cell": {
    "cell_type": "raw",
    "source": [],
    "metadata": {
     "collapsed": false
    }
   }
  }
 },
 "nbformat": 4,
 "nbformat_minor": 2
}
