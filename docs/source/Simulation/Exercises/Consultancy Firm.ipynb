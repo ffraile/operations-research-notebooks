{
 "cells": [
  {
   "cell_type": "markdown",
   "metadata": {},
   "source": [
    "# Consultancy Firm\n",
    "## Problem Definition\n",
    "ABC Consulting is a consultancy firm in which employees move through three levels: Junior Consultant, Senior Consultant and Manager. Changes of level are determined by the Human Resources (HR) Director based on an annual evaluation done for each employee. Only one change of level can be done per evaluation and employees never go down one level. After doing a statistical analysis, the HR Director has determined that the Junior Consultant has a 20 % probability of moving up one level after the evaluation, whereas this probability lowers to 5 % for a Senior Consultant. He has also established that there is a probability of 15, 10 and 5 % that a Junior Consultant, a Senior Consultant or a Manager, respectively, leaves the firm (to work for another firm or to retire) after knowing the result of his or her annual evaluation. For every employee who leaves the firm, a new Junior Consultant is contracted.\n",
    "\n",
    "**a)** Model employee carriers as a Markov Chain\n",
    "\n",
    "**b)** According to the model, calculate the stationary probabilities to determine What percentage of employees at leach level will the company have in the long term\n"
   ]
  }
 ],
 "metadata": {
  "kernelspec": {
   "display_name": "Python 3",
   "language": "python",
   "name": "python3"
  },
  "language_info": {
   "codemirror_mode": {
    "name": "ipython",
    "version": 3
   },
   "file_extension": ".py",
   "mimetype": "text/x-python",
   "name": "python",
   "nbconvert_exporter": "python",
   "pygments_lexer": "ipython3",
   "version": "3.7.0"
  }
 },
 "nbformat": 4,
 "nbformat_minor": 2
}
