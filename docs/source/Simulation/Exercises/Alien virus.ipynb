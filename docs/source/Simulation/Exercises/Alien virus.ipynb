{
 "cells": [
  {
   "cell_type": "markdown",
   "metadata": {
    "collapsed": true,
    "pycharm": {
     "name": "#%% md\n"
    }
   },
   "source": [
    "# Alien Virus\n",
    "## Problem Definition\n",
    "Rick is a re-known scientist that is currently analysing the effects and mortality of an alien virus. Rick considers that, under the effect of the virus, a cell can be in three different states s1=healthy, s2=infected, s3=dead.\n",
    "\n",
    "**a** Rick thinks that the effect of the virus can be modelled as a Markov Process. Consider the transition probabilities as unknowns, taking into account that infected cells may heal but dead cells cannot be alive again. Draw the Markov process chain and the one-step transition probability matrix.\n",
    "\n",
    "Rick makes a series of experiments by exposing a healthy cell culture to the virus and checking a sample every 10 hours. After 10 hours, 40% of the cells are infected, but none are dead. After 20 hours, 24% of the cells are dead and 36% are infected.\n",
    "\n",
    "**b** Consider that the result of the 10 hours sample is the probability vector Vt (t=1) obtained from the one-step transition probability matrix above and a vector Vt(t=0) representing the healthy cell culture population. Calculate the transition probabilities from s1.\n",
    "\n",
    "**c** Consider now the result of the 20 hours sample as the probability vector Vt(t=2). Can you determine the transition probabilities from s2?"
   ]
  }
 ],
 "metadata": {
  "kernelspec": {
   "display_name": "Python 3",
   "language": "python",
   "name": "python3"
  },
  "language_info": {
   "codemirror_mode": {
    "name": "ipython",
    "version": 2
   },
   "file_extension": ".py",
   "mimetype": "text/x-python",
   "name": "python",
   "nbconvert_exporter": "python",
   "pygments_lexer": "ipython2",
   "version": "2.7.6"
  },
  "pycharm": {
   "stem_cell": {
    "cell_type": "raw",
    "source": [],
    "metadata": {
     "collapsed": false
    }
   }
  }
 },
 "nbformat": 4,
 "nbformat_minor": 0
}
