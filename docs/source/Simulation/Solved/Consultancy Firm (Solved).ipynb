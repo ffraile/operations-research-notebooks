{
 "cells": [
  {
   "cell_type": "markdown",
   "metadata": {},
   "source": [
    "# Consultancy Firm\n",
    "## Problem Definition\n",
    "ABC Consulting is a consultancy firm in which employees move through three levels: Junior Consultant, Senior Consultant and Manager. Changes of level are determined by the Human Resources (HR) Director based on an annual evaluation done for each employee. Only one change of level can be done per evaluation and employees never go down one level. After doing a statistical analysis, the HR Director has determined that the Junior Consultant has a 20 % probability of moving up one level after the evaluation, whereas this probability lowers to 5 % for a Senior Consultant. He has also established that there is a probability of 15, 10 and 5 % that a Junior Consultant, a Senior Consultant or a Manager, respectively, leaves the firm (to work for another firm or to retire) after knowing the result of his or her annual evaluation. For every employee who leaves the firm, a new Junior Consultant is contracted.\n",
    "\n",
    "\n"
   ]
  },
  {
   "cell_type": "markdown",
   "metadata": {},
   "source": [
    "**a)** Model employee carriers as a Markov Chain\n"
   ]
  },
  {
   "cell_type": "markdown",
   "metadata": {},
   "source": [
    "We can define a Markov chain with one state per level:\n",
    "\n",
    "- $s_1$: Employee at Junior consultant level\n",
    "- $s_2$: Employee at Senior consultant level\n",
    "- $s_3$: Employee at Manager level\n",
    "- $s_4$: Employee leaves the firm\n",
    "\n",
    "The time period between state changes is equal to the evaluation period (not specified).\n",
    "\n",
    "Using the information collected by the HR Director, we can note the one-step probability matrix as:\n",
    "\n",
    "$P^{(1)} = \n",
    "\\begin{bmatrix}\n",
    "0.65 & 0.2 & 0.0 & 0.15 \\\\\n",
    "0.00 & 0.85 & 0.05 & 0.10 \\\\\n",
    "0.0 & 0.0 & .95 & 0.05 \\\\\n",
    "1.0 & 0.0 & 0.0 & 0.0 \\\\\n",
    "\\end{bmatrix}$\n",
    "\n",
    "$p_{41}$ is equal to 1 since every employee that leaves the firm, a new junior consultant is hired."
   ]
  },
  {
   "cell_type": "markdown",
   "metadata": {},
   "source": [
    "\n",
    "**b)** According to the model, calculate the stationary probabilities to determine What percentage of employees at leach level will the company have in the long term"
   ]
  },
  {
   "cell_type": "markdown",
   "metadata": {},
   "source": [
    "$\\pi_1 = 0.65·\\pi_1 + \\pi_4$\n",
    "\n",
    "$\\pi_2 =  0.2·\\pi_1 + 0.85·\\pi_2$\n",
    "\n",
    "$\\pi_3 = 0.05·\\pi_2 + 0.95·\\pi_3$\n",
    "\n",
    "$\\pi_4 = 0.15·\\pi_1 + 0.1·\\pi_2 + 0.05·\\pi_3$\n",
    "\n",
    "$\\pi_1 + \\pi_2 + \\pi_3 + \\pi_4 = 1$\n",
    "\n",
    "This yields:\n",
    "\n",
    "$0.35·\\pi_1 = \\pi_4$\n",
    "\n",
    "$0.2·\\pi_1 = 0.15·\\pi_2$\n",
    "\n",
    "$0.04\\pi_3 = 0.04·\\pi_2$\n",
    "\n",
    "$\\pi_1 = 0.249$\n",
    "\n",
    "$\\pi_2 = 0.332$\n",
    "\n",
    "$\\pi_3 = 0.332$\n",
    "\n",
    "$\\pi_4 = 0.08715$"
   ]
  }
 ],
 "metadata": {
  "kernelspec": {
   "display_name": "Python 3",
   "language": "python",
   "name": "python3"
  },
  "language_info": {
   "codemirror_mode": {
    "name": "ipython",
    "version": 3
   },
   "file_extension": ".py",
   "mimetype": "text/x-python",
   "name": "python",
   "nbconvert_exporter": "python",
   "pygments_lexer": "ipython3",
   "version": "3.7.4"
  },
  "pycharm": {
   "stem_cell": {
    "cell_type": "raw",
    "source": [],
    "metadata": {
     "collapsed": false
    }
   }
  }
 },
 "nbformat": 4,
 "nbformat_minor": 2
}
