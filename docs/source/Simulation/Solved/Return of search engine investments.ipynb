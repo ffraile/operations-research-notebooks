{
 "cells": [
  {
   "cell_type": "markdown",
   "metadata": {},
   "source": [
    "# Return of Investments for online marketing\n",
    "\n",
    "## Try me\n",
    " [![Open In Colab](../../_static/colabs_badge.png)](https://colab.research.google.com/github/ffraile/operations-research-notebooks/blob/main/docs/source/Simulation/Solved/Return%20of%20search%20engine%20investments.ipynb)[![Binder](../../_static/binder_badge.png)](https://mybinder.org/v2/gh/ffraile/operations-research-notebooks/main?labpath=docs%2Fsource%2FSimulation%2FSolved%2FReturn%20of%20search%20engine%20investments.ipynb)\n",
    "\n",
    "The following metrics and indicators determine the expenditures and return of investments of marketing investments in paid inclusion (including your company's web page in search results) for your company:\n",
    "\n",
    "- **S (Total Search results in period):** Total number of times the keywords are used in searches in the planning period.\n",
    "- **CPM (Cost per 1000 impressions):** Cost of the search engine per every 1000 impressions, every time your website appears in a search result\n",
    "- **CPC (Cost per click):** Cost per every click\n",
    "- **CTR (Click-Through Rate):** rate between the number of clicks and number of impressions\n",
    "- **CVR (Conversion Rate):** rate between the number of visitors and the number of users\n",
    "\n",
    "With this, the number of visitors (V) and the number of users (U) can be calculated as:\n",
    "\n",
    "$U = V * CVR = S * CTR * CVR$\n",
    "\n",
    "The total costs ($C_t$) of the search engine investments are:\n",
    "\n",
    "$C_t = CPC*V + CPM/1000*S$\n",
    "\n",
    "\n",
    "The **ARPU (Average revenue per user in planning period)** is the average revenue per user, or the total revenue in the planning period (R), divided by the number of users:\n",
    "\n",
    "$ARPU = R/U$\n",
    "\n",
    "The Return of Investments for online marketing is calculated as:\n",
    "\n",
    "$ROI = \\frac{R - C_t}{C_t}$\n",
    "\n",
    "After some research, you have found that the different metrics can be modeled as normal distributions with the following parameters:\n",
    "\n",
    "| Metric | Mean | Standard Deviation |\n",
    "|--------|------|--------------------|\n",
    "|Search results | 600000 | 100000 |\n",
    "| CTR | 0.05 | 0.01 |\n",
    "| CVR | 0.5 | 0.1 |\n",
    "\n",
    "These are the search engine fees for your keywords:\n",
    "- CPM = 0,3€\n",
    "- CPC = 0,75€\n",
    "\n",
    "You estimate your ARPU in 5€\n",
    "\n",
    "**a.** Calculate the total costs, the total Return of Investments and the average cost per acquisition using Montecarlo Simulation\n"
   ]
  },
  {
   "cell_type": "markdown",
   "source": [
    "Ok, Let's first import the libraries we will need:"
   ],
   "metadata": {
    "collapsed": false
   }
  },
  {
   "cell_type": "code",
   "execution_count": 1,
   "metadata": {},
   "outputs": [],
   "source": [
    "import pandas as pd\n",
    "import numpy as np"
   ]
  },
  {
   "cell_type": "markdown",
   "source": [
    "Ok, now we can start with the simulation. First, we will define the number of simulations we want to run. We will use 100000 simulations, but you can change this number to see how the results change. Once, we define the number of simulations, we will also define the properties of the random variables we want to simulate with Montecarlo (mean and standard deviation). We will use the numpy library to generate the random variables. Finally, in this basic implementation, we will define a for loop to run the simulation and store the results in a dataframe. We will also calculate the ROI for each simulation and store it in the dataframe. Finally, We will use the describe function to get the statistics of the results."
   ],
   "metadata": {
    "collapsed": false
   }
  },
  {
   "cell_type": "code",
   "execution_count": null,
   "outputs": [],
   "source": [
    "# Number of simulations\n",
    "num_simulations = 100000\n",
    "\n",
    "# Parameters of the revenue model\n",
    "#Data Search Results and search engines costs\n",
    "#Data Search Results and search engines costs\n",
    "search_results_avg = 600000\n",
    "search_results_std = 100000\n",
    "\n",
    "ctr_mean = 0.05\n",
    "ctr_std = 0.01\n",
    "\n",
    "cvr_mean = 0.5\n",
    "cvr_std = 0.1\n",
    "\n",
    "# Costs and unitary profit\n",
    "CPM = 0.3\n",
    "CPC = 0.75\n",
    "\n",
    "ARPU = 5\n",
    "\n",
    "# We initialize a numpy array with the number of simulations and the number of variables we want to simulate\n",
    "results = np.zeros((num_simulations, 8))\n",
    "\n",
    "# We run the simulation\n",
    "for i in range(num_simulations):\n",
    "    # First we calculate the total number of impacts or searches\n",
    "    total_impacts = np.random.normal(search_results_avg,search_results_std)\n",
    "\n",
    "    # Then we calculate the total number of visitors using the Click-Through Rate (CTR)\n",
    "    CTR = np.random.normal(ctr_mean, ctr_std)\n",
    "    total_visitors = total_impacts * CTR\n",
    "\n",
    "    # Then we calculate the total number of customers using the Conversion Rate (CVR)\n",
    "    CVR = np.random.normal(cvr_mean, cvr_std)\n",
    "    total_customers = total_visitors * CVR\n",
    "\n",
    "    # Finally, we calculate the total cost and the total revenues, using the costs and the ARPU\n",
    "    total_cost = CPC*total_visitors + CPM*total_impacts/1000\n",
    "    total_revenues = total_customers * ARPU\n",
    "    ROI = (total_revenues - total_cost)/total_cost\n",
    "\n",
    "    # We store the results in the numpy array, in row i\n",
    "    results[i,:] = [total_impacts, CTR, total_visitors, CVR, total_customers, total_cost, total_revenues, ROI]\n",
    "\n",
    "# We create a dataframe with the results\n",
    "df_results = pd.DataFrame(results, columns = ['Total impacts', 'CTR', 'Total visitors', 'CVR', 'Total customers', 'Total cost', 'Total revenues', 'ROI'])\n",
    "results.describe()"
   ],
   "metadata": {
    "collapsed": false
   }
  },
  {
   "cell_type": "markdown",
   "source": [
    "This code works and is easy to interpret, but it does not leverage one of the most outstanding features of Numpy, working with vectors and matrices. Let's see how we can improve the code using vectors and matrices, avoiding the for loop:"
   ],
   "metadata": {
    "collapsed": false
   }
  },
  {
   "cell_type": "code",
   "execution_count": 2,
   "metadata": {},
   "outputs": [
    {
     "data": {
      "text/plain": "            impacts            CTR       Visitors            CVR  \\\ncount  1.000000e+05  100000.000000  100000.000000  100000.000000   \nmean   5.999030e+05       0.050052   30031.266831       0.499396   \nstd    1.001245e+05       0.010003    7901.093998       0.099647   \nmin    1.627489e+05       0.006749    3111.804727       0.095343   \n25%    5.327494e+05       0.043324   24461.139430       0.432389   \n50%    5.997867e+05       0.050051   29532.234129       0.499373   \n75%    6.674925e+05       0.056801   35082.456403       0.566536   \nmax    1.045158e+06       0.092695   73104.943275       0.958135   \n\n           Customers       Revenues           Cost            ROI  \ncount  100000.000000  100000.000000  100000.000000  100000.000000  \nmean    14997.328542   74986.642710   22703.421018       2.301716  \nstd      5015.323090   25076.615449    5945.011469       0.658838  \nmin      1425.791553    7128.957767    2472.171271      -0.369106  \n25%     11421.034780   57105.173899   18513.188951       1.858309  \n50%     14445.367567   72226.837833   22325.493179       2.301226  \n75%     18009.074903   90045.374513   26502.929706       2.745805  \nmax     47847.191767  239235.958836   55099.856282       5.337203  ",
      "text/html": "<div>\n<style scoped>\n    .dataframe tbody tr th:only-of-type {\n        vertical-align: middle;\n    }\n\n    .dataframe tbody tr th {\n        vertical-align: top;\n    }\n\n    .dataframe thead th {\n        text-align: right;\n    }\n</style>\n<table border=\"1\" class=\"dataframe\">\n  <thead>\n    <tr style=\"text-align: right;\">\n      <th></th>\n      <th>impacts</th>\n      <th>CTR</th>\n      <th>Visitors</th>\n      <th>CVR</th>\n      <th>Customers</th>\n      <th>Revenues</th>\n      <th>Cost</th>\n      <th>ROI</th>\n    </tr>\n  </thead>\n  <tbody>\n    <tr>\n      <th>count</th>\n      <td>1.000000e+05</td>\n      <td>100000.000000</td>\n      <td>100000.000000</td>\n      <td>100000.000000</td>\n      <td>100000.000000</td>\n      <td>100000.000000</td>\n      <td>100000.000000</td>\n      <td>100000.000000</td>\n    </tr>\n    <tr>\n      <th>mean</th>\n      <td>5.999030e+05</td>\n      <td>0.050052</td>\n      <td>30031.266831</td>\n      <td>0.499396</td>\n      <td>14997.328542</td>\n      <td>74986.642710</td>\n      <td>22703.421018</td>\n      <td>2.301716</td>\n    </tr>\n    <tr>\n      <th>std</th>\n      <td>1.001245e+05</td>\n      <td>0.010003</td>\n      <td>7901.093998</td>\n      <td>0.099647</td>\n      <td>5015.323090</td>\n      <td>25076.615449</td>\n      <td>5945.011469</td>\n      <td>0.658838</td>\n    </tr>\n    <tr>\n      <th>min</th>\n      <td>1.627489e+05</td>\n      <td>0.006749</td>\n      <td>3111.804727</td>\n      <td>0.095343</td>\n      <td>1425.791553</td>\n      <td>7128.957767</td>\n      <td>2472.171271</td>\n      <td>-0.369106</td>\n    </tr>\n    <tr>\n      <th>25%</th>\n      <td>5.327494e+05</td>\n      <td>0.043324</td>\n      <td>24461.139430</td>\n      <td>0.432389</td>\n      <td>11421.034780</td>\n      <td>57105.173899</td>\n      <td>18513.188951</td>\n      <td>1.858309</td>\n    </tr>\n    <tr>\n      <th>50%</th>\n      <td>5.997867e+05</td>\n      <td>0.050051</td>\n      <td>29532.234129</td>\n      <td>0.499373</td>\n      <td>14445.367567</td>\n      <td>72226.837833</td>\n      <td>22325.493179</td>\n      <td>2.301226</td>\n    </tr>\n    <tr>\n      <th>75%</th>\n      <td>6.674925e+05</td>\n      <td>0.056801</td>\n      <td>35082.456403</td>\n      <td>0.566536</td>\n      <td>18009.074903</td>\n      <td>90045.374513</td>\n      <td>26502.929706</td>\n      <td>2.745805</td>\n    </tr>\n    <tr>\n      <th>max</th>\n      <td>1.045158e+06</td>\n      <td>0.092695</td>\n      <td>73104.943275</td>\n      <td>0.958135</td>\n      <td>47847.191767</td>\n      <td>239235.958836</td>\n      <td>55099.856282</td>\n      <td>5.337203</td>\n    </tr>\n  </tbody>\n</table>\n</div>"
     },
     "execution_count": 2,
     "metadata": {},
     "output_type": "execute_result"
    }
   ],
   "source": [
    "num_simulations = 100000\n",
    "\n",
    "#Data Search Results and search engines costs\n",
    "search_results_avg = 600000\n",
    "search_results_std = 100000\n",
    "\n",
    "ctr_mean = 0.05\n",
    "ctr_std = 0.01\n",
    "\n",
    "cvr_mean = 0.5\n",
    "cvr_std = 0.1\n",
    "\n",
    "# Costs and unitary profit\n",
    "CPM = 0.3\n",
    "CPC = 0.75\n",
    "\n",
    "ARPU = 5\n",
    "\n",
    "\n",
    "# Total number of impacts or searches, each row represents a simulation\n",
    "total_impacts = np.random.normal(search_results_avg,search_results_std, num_simulations)\n",
    "\n",
    "# Click-Through Rate, each row represents a simulation\n",
    "CTR = np.random.normal(ctr_mean, ctr_std, num_simulations)\n",
    "\n",
    "# Total clicks or visitors\n",
    "total_visitors = total_impacts * CTR\n",
    "\n",
    "# Conversion rate\n",
    "CVR = np.random.normal(cvr_mean, cvr_std, num_simulations)\n",
    "\n",
    "#Total customers or users\n",
    "total_customers = total_visitors * CVR\n",
    "\n",
    "#Total search engine costs\n",
    "total_cost = CPC*total_visitors + CPM*total_impacts/1000\n",
    "\n",
    "#Total revenues estimated from ARPU\n",
    "total_revenues = total_customers * ARPU\n",
    "\n",
    "#ROI (total revenues - total costs)/total cost\n",
    "\n",
    "ROI = (total_revenues - total_cost)/total_cost\n",
    "\n",
    "\n",
    "results_df = pd.DataFrame({'impacts':total_impacts, 'CTR':CTR, 'Visitors':total_visitors, 'CVR':CVR, 'Customers':total_customers, 'Revenues':total_revenues, 'Cost':total_cost, 'ROI':ROI})\n",
    "\n",
    "#Now we can see the statistics using the describe function:\n",
    "results_df.describe()\n"
   ]
  },
  {
   "cell_type": "markdown",
   "source": [
    "Note that the only difference is that now we have used the numpy library to generate bi-dimensional matrices with the random variables, and then just algebraic operations to calculate and store the results. This is much more efficient than using a for loop."
   ],
   "metadata": {
    "collapsed": false
   }
  },
  {
   "cell_type": "markdown",
   "source": [
    "Ok, now we can answer the questions just use the function hist() of the dataframe to plot the histogram:"
   ],
   "metadata": {
    "collapsed": false
   }
  },
  {
   "cell_type": "code",
   "execution_count": 3,
   "metadata": {},
   "outputs": [
    {
     "data": {
      "text/plain": "<Figure size 432x288 with 9 Axes>",
      "image/png": "[encoded data removed]"
     },
     "metadata": {
      "needs_background": "light"
     },
     "output_type": "display_data"
    }
   ],
   "source": [
    "#Check if our distribution is normally distributed\n",
    "\n",
    "hist = results_df.hist(bins=100)"
   ]
  },
  {
   "cell_type": "markdown",
   "source": [
    "Now, to calculate the confidence interval of the ROI, we can use the standard distribution, as we have a large number of simulations. We can use the scipy library to get the confidence interval, using the function norm.ppf() to get the quantiles of the standard distribution. We can also use the describe function to get the statistics of the results:"
   ],
   "metadata": {
    "collapsed": false
   }
  },
  {
   "cell_type": "code",
   "execution_count": 4,
   "metadata": {},
   "outputs": [],
   "source": [
    "import scipy.stats as st"
   ]
  },
  {
   "cell_type": "code",
   "execution_count": 5,
   "metadata": {},
   "outputs": [
    {
     "name": "stdout",
     "output_type": "stream",
     "text": [
      "(1.010423544564778, 3.593008469189609)\n"
     ]
    }
   ],
   "source": [
    "# Get the confidence interval of the ROI using the standard distribution\n",
    "interval = (st.norm.ppf(0.025, loc= np.mean(ROI), scale=np.std(ROI)), st.norm.ppf(0.975, loc= np.mean(ROI), scale=np.std(ROI)))\n",
    "print(interval)"
   ]
  },
  {
   "cell_type": "markdown",
   "metadata": {},
   "source": [
    "The 95% confidence interval of the ROI will be between these 2 values\n",
    "\n",
    "Note that the function ```norm.ppf``` takes the quantile as the first argument, and the mean and standard deviation as the second and third arguments. Since we want to get the 95% confidence interval, we use 0.025 and 0.975 as the quantiles. To get the average and standard distribution of the ROI, we use the numpy functions ```mean``` and ```std```, which will return the empirical mean and standard deviation of the data generated during the simulation.\n"
   ]
  },
  {
   "cell_type": "code",
   "execution_count": 6,
   "metadata": {},
   "outputs": [
    {
     "data": {
      "text/plain": "            impacts            CTR       Visitors            CVR  \\\ncount  1.000000e+05  100000.000000  100000.000000  100000.000000   \nmean   5.999030e+05       0.050052   30031.266831       0.499396   \nstd    1.001245e+05       0.010003    7901.093998       0.099647   \nmin    1.627489e+05       0.006749    3111.804727       0.095343   \n2.5%   4.026289e+05       0.030309   15950.632852       0.304002   \n50%    5.997867e+05       0.050051   29532.234129       0.499373   \n97.5%  7.955853e+05       0.069589   46908.820897       0.693940   \nmax    1.045158e+06       0.092695   73104.943275       0.958135   \n\n           Customers       Revenues           Cost            ROI  \ncount  100000.000000  100000.000000  100000.000000  100000.000000  \nmean    14997.328542   74986.642710   22703.421018       2.301716  \nstd      5015.323090   25076.615449    5945.011469       0.658838  \nmin      1425.791553    7128.957767    2472.171271      -0.369106  \n2.5%     6727.525477   33637.627384   12107.334547       1.010177  \n50%     14445.367567   72226.837833   22325.493179       2.301226  \n97.5%   26258.565698  131292.828488   35404.215418       3.587235  \nmax     47847.191767  239235.958836   55099.856282       5.337203  ",
      "text/html": "<div>\n<style scoped>\n    .dataframe tbody tr th:only-of-type {\n        vertical-align: middle;\n    }\n\n    .dataframe tbody tr th {\n        vertical-align: top;\n    }\n\n    .dataframe thead th {\n        text-align: right;\n    }\n</style>\n<table border=\"1\" class=\"dataframe\">\n  <thead>\n    <tr style=\"text-align: right;\">\n      <th></th>\n      <th>impacts</th>\n      <th>CTR</th>\n      <th>Visitors</th>\n      <th>CVR</th>\n      <th>Customers</th>\n      <th>Revenues</th>\n      <th>Cost</th>\n      <th>ROI</th>\n    </tr>\n  </thead>\n  <tbody>\n    <tr>\n      <th>count</th>\n      <td>1.000000e+05</td>\n      <td>100000.000000</td>\n      <td>100000.000000</td>\n      <td>100000.000000</td>\n      <td>100000.000000</td>\n      <td>100000.000000</td>\n      <td>100000.000000</td>\n      <td>100000.000000</td>\n    </tr>\n    <tr>\n      <th>mean</th>\n      <td>5.999030e+05</td>\n      <td>0.050052</td>\n      <td>30031.266831</td>\n      <td>0.499396</td>\n      <td>14997.328542</td>\n      <td>74986.642710</td>\n      <td>22703.421018</td>\n      <td>2.301716</td>\n    </tr>\n    <tr>\n      <th>std</th>\n      <td>1.001245e+05</td>\n      <td>0.010003</td>\n      <td>7901.093998</td>\n      <td>0.099647</td>\n      <td>5015.323090</td>\n      <td>25076.615449</td>\n      <td>5945.011469</td>\n      <td>0.658838</td>\n    </tr>\n    <tr>\n      <th>min</th>\n      <td>1.627489e+05</td>\n      <td>0.006749</td>\n      <td>3111.804727</td>\n      <td>0.095343</td>\n      <td>1425.791553</td>\n      <td>7128.957767</td>\n      <td>2472.171271</td>\n      <td>-0.369106</td>\n    </tr>\n    <tr>\n      <th>2.5%</th>\n      <td>4.026289e+05</td>\n      <td>0.030309</td>\n      <td>15950.632852</td>\n      <td>0.304002</td>\n      <td>6727.525477</td>\n      <td>33637.627384</td>\n      <td>12107.334547</td>\n      <td>1.010177</td>\n    </tr>\n    <tr>\n      <th>50%</th>\n      <td>5.997867e+05</td>\n      <td>0.050051</td>\n      <td>29532.234129</td>\n      <td>0.499373</td>\n      <td>14445.367567</td>\n      <td>72226.837833</td>\n      <td>22325.493179</td>\n      <td>2.301226</td>\n    </tr>\n    <tr>\n      <th>97.5%</th>\n      <td>7.955853e+05</td>\n      <td>0.069589</td>\n      <td>46908.820897</td>\n      <td>0.693940</td>\n      <td>26258.565698</td>\n      <td>131292.828488</td>\n      <td>35404.215418</td>\n      <td>3.587235</td>\n    </tr>\n    <tr>\n      <th>max</th>\n      <td>1.045158e+06</td>\n      <td>0.092695</td>\n      <td>73104.943275</td>\n      <td>0.958135</td>\n      <td>47847.191767</td>\n      <td>239235.958836</td>\n      <td>55099.856282</td>\n      <td>5.337203</td>\n    </tr>\n  </tbody>\n</table>\n</div>"
     },
     "execution_count": 6,
     "metadata": {},
     "output_type": "execute_result"
    }
   ],
   "source": [
    "# We can also get the empirical 95% confidence interval of all metrics using describe\n",
    "results_df.describe(percentiles=[0.025, 0.975])"
   ]
  }
 ],
 "metadata": {
  "kernelspec": {
   "display_name": "Python 3",
   "language": "python",
   "name": "python3"
  },
  "language_info": {
   "codemirror_mode": {
    "name": "ipython",
    "version": 3
   },
   "file_extension": ".py",
   "mimetype": "text/x-python",
   "name": "python",
   "nbconvert_exporter": "python",
   "pygments_lexer": "ipython3",
   "version": "3.8.5"
  },
  "pycharm": {
   "stem_cell": {
    "cell_type": "raw",
    "source": [],
    "metadata": {
     "collapsed": false
    }
   }
  }
 },
 "nbformat": 4,
 "nbformat_minor": 2
}
