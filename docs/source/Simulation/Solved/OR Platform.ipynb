{
 "cells": [
  {
   "cell_type": "markdown",
   "metadata": {},
   "source": [
    "# Net Income of OR Platform\n",
    "\n",
    "## Try me\n",
    " [![Open In Colab](../../_static/colabs_badge.png)](https://colab.research.google.com/github/ffraile/operations-research-notebooks/blob/main/docs/source/Simulation/Solved/OR%20Platform.ipynb)[![Binder](../../_static/binder_badge.png)](https://mybinder.org/v2/gh/ffraile/operations-research-notebooks/main?labpath=docs%2Fsource%2FSimulation%2FSolved%2FOR%20Platform.ipynb)\n",
    "\n",
    "## Introduction\n",
    "You want to use Montecarlo simulation to estimate the net income of OR Platform (Operations Research Platform): A cloud platform that facilitates the development and access to algorithms to solve optimization problems in the field of operations research. The platform is a web application that allows users to upload their algorithms and data, and sale them to final users who can in turn plug in their data and run them on the platform.\n",
    "\n",
    "![OR Platform](https://raw.githubusercontent.com/ffraile/operations-research-notebooks/master/docs/source/Simulation/Exercises/img/OR_Platform.png){width=50%}\n",
    "\n",
    "The platform is free for developers, who can in turn establish a yearly subscription fee and a pay-per-use fee for hour of use of the platform.\n",
    "As the platform operator, OR Platform establishes a 5% retention rate for the revenues generated from the subscription fee and a 10% retention rate for the revenues generated from the pay-per-use fee.\n",
    "\n",
    "To support your business model and to make the platform profitable, you want to estimate the net income of the platform using Montecarlo simulation to simulate the revenue of the platform in the following scenarios:\n",
    "\n",
    "  1. Optimistic: The platform is used by a large number of users.\n",
    "  2. Pessimistic: The platform is used by a small number of users.\n",
    "  3. Moderate: The platform is used by a moderate number of users.\n",
    "\n",
    "The following table shows the mean and standard deviation of the number of algorithms in the marketplace, the number of users per algorithm, and license and usage costs of algorithms, and the monthly use. \n",
    "Each cell provides the average and standard deviation as (average/std):\n",
    "\n",
    "| Scenario | Algorithms in marketplace | Users per algorithm | License Cost (€) | Usage cost (€) | Monthly use (hours) |\n",
    "| -------- | ------------------------- | ------------------- | ---------------- | -------------- | ------------------- |\n",
    "| 1        | 500/100                   | 25/10               | 1000/200         | 10/3           | 30/10               |\n",
    "| 2        | 10/3                      | 5/1                 | 1000/200         | 10/3           | 30/10               |\n",
    "| 3        | 100/10                    | 8/2                 | 1000/200         | 10/3           | 30/10               |\n",
    "\n",
    "**a.** Complete the following function so that it returns a dataframe with the data of the simulation"
   ]
  },
  {
   "cell_type": "code",
   "metadata": {},
   "source": [
    "import pandas as pd\n",
    "import numpy as np\n",
    "\n",
    "\n",
    "def run_simulation(num_simulations = 100000, alg_avg = 500, alg_std = 100, alg_usr_avg = 25, alg_usr_std = 10,\n",
    "                   usage_cost_avg = 10, usage_cost_std = 3, fixed_costs = 5000, license_avg = 1000, license_std = 200,\n",
    "                   license_fee = 0.05, usage_fee = 0.1, average_monthly_use_avg = 30,  average_monthly_use_std = 10):\n",
    "    \"\"\"\n",
    "    Runs a Monte Carlo simulation to calculate the total costs, the total Return of Investments and the average cost per acquisition.\n",
    "\n",
    "    :param num_simulations: Number of simulations to run (default 100000)\n",
    "    :param alg_avg: Average number of algorithms in platform (default 500)\n",
    "    :param alg_std: Standard deviation of number of algorithms in platform (default 100)\n",
    "    :param alg_usr_avg: Average number of users per algorithm (default 25)\n",
    "    :param alg_usr_std: Standard deviation of number of users per algorithm (default 10)\n",
    "    :param usage_cost_avg: Average usage cost per hour of algorithm (default 10 €/hour)\n",
    "    :param usage_cost_std: Standard deviation of usage cost per hour of algorithm (default 3 €/hour)\n",
    "    :param fixed_costs: Fixed operational costs of platform per month (default 5000 €/month)\n",
    "    :param license_avg: Average license cost per year (default 1000 €/year)\n",
    "    :param license_std: Standard deviation of license cost per year (default 200 €/year)\n",
    "    :param average_monthly_use_avg: Average number of hours used per month (default 30 hours/month)\n",
    "    :param average_monthly_use_std: Standard deviation of number of hours used per month (default 10 hours/month)\n",
    "    :param usage_fee: Usage fee ratio retained by the platform (default 0.1)\n",
    "    :param license_fee: License fee ratio retained by the platform (default 0.05)\n",
    "    :return: DataFrame with simulation results\n",
    "    \"\"\"\n",
    "\n",
    "    # Random variables' definition, drawn from standard distribution:\n",
    "\n",
    "    # Number of algorithms in platform\n",
    "    alg_num = np.random.normal(alg_avg, alg_std, num_simulations)\n",
    "    # Number of users\n",
    "    alg_usr_num = np.random.normal(alg_usr_avg, alg_usr_std, num_simulations)\n",
    "    # Usage cost\n",
    "    usage_cost = np.random.normal(usage_cost_avg, usage_cost_std, num_simulations)\n",
    "    # License cost\n",
    "    license_cost = np.random.normal(license_avg, license_std, num_simulations)\n",
    "    # Average monthly use\n",
    "    average_monthly_use = np.random.normal(average_monthly_use_avg, average_monthly_use_std, num_simulations)\n",
    "\n",
    "\n",
    "    # License revenue\n",
    "    license_revenue = alg_num * alg_usr_num * license_cost * license_fee / 12\n",
    "\n",
    "    # Usage revenue\n",
    "    usage_revenue = alg_num * alg_usr_num * average_monthly_use_avg * usage_cost * usage_fee\n",
    "\n",
    "    # total revenue\n",
    "    total_revenue = license_revenue + usage_revenue\n",
    "\n",
    "    # Usage costs\n",
    "    usage_cost = usage_cost * alg_num * alg_usr_num\n",
    "\n",
    "    # net income per month\n",
    "    net_income = total_revenue - usage_cost - fixed_costs\n",
    "\n",
    "    df = pd.DataFrame({\n",
    "        'algorithms': alg_num,\n",
    "        'usage_cost': usage_cost,\n",
    "        'license_cost': license_cost,\n",
    "        'license_revenue': license_revenue,\n",
    "        'usage_revenue': usage_revenue,\n",
    "        'total_revenue': total_revenue,\n",
    "        'net_income': net_income\n",
    "    })\n",
    "    return df\n",
    "\n",
    "scenario_1 = run_simulation()\n",
    "scenario_1.describe(percentiles=[0.025, 0.975])\n",
    "\n"
   ],
   "execution_count": 3,
   "outputs": [
    {
     "data": {
      "text/plain": "          algorithms     usage_cost   license_cost  license_revenue  \\\ncount  100000.000000  100000.000000  100000.000000    100000.000000   \nmean      500.504650  124938.387108    1000.739332     52050.604377   \nstd        99.986653   70377.717804     200.335295     26332.188490   \nmin        66.184384  -98130.493248     164.403398    -36142.046581   \n2.5%      305.202706   18963.663252     608.209973      9746.518862   \n50%       500.184639  114307.697847    1001.035867     48833.387032   \n97.5%     696.831718  290453.604036    1395.518132    112432.701256   \nmax       982.580228  625004.311396    1827.061141    247453.297231   \n\n       usage_revenue  total_revenue    net_income  \ncount   1.000000e+05   1.000000e+05  1.000000e+05  \nmean    3.748152e+05   4.268658e+05  2.969274e+05  \nstd     2.111332e+05   2.309547e+05  1.608886e+05  \nmin    -2.943915e+05  -3.254575e+05 -2.323270e+05  \n2.5%    5.689099e+04   7.217956e+04  4.751109e+04  \n50%     3.429231e+05   3.943141e+05  2.749056e+05  \n97.5%   8.713608e+05   9.669913e+05  6.724579e+05  \nmax     1.875013e+06   2.042271e+06  1.412267e+06  ",
      "text/html": "<div>\n<style scoped>\n    .dataframe tbody tr th:only-of-type {\n        vertical-align: middle;\n    }\n\n    .dataframe tbody tr th {\n        vertical-align: top;\n    }\n\n    .dataframe thead th {\n        text-align: right;\n    }\n</style>\n<table border=\"1\" class=\"dataframe\">\n  <thead>\n    <tr style=\"text-align: right;\">\n      <th></th>\n      <th>algorithms</th>\n      <th>usage_cost</th>\n      <th>license_cost</th>\n      <th>license_revenue</th>\n      <th>usage_revenue</th>\n      <th>total_revenue</th>\n      <th>net_income</th>\n    </tr>\n  </thead>\n  <tbody>\n    <tr>\n      <th>count</th>\n      <td>100000.000000</td>\n      <td>100000.000000</td>\n      <td>100000.000000</td>\n      <td>100000.000000</td>\n      <td>1.000000e+05</td>\n      <td>1.000000e+05</td>\n      <td>1.000000e+05</td>\n    </tr>\n    <tr>\n      <th>mean</th>\n      <td>500.504650</td>\n      <td>124938.387108</td>\n      <td>1000.739332</td>\n      <td>52050.604377</td>\n      <td>3.748152e+05</td>\n      <td>4.268658e+05</td>\n      <td>2.969274e+05</td>\n    </tr>\n    <tr>\n      <th>std</th>\n      <td>99.986653</td>\n      <td>70377.717804</td>\n      <td>200.335295</td>\n      <td>26332.188490</td>\n      <td>2.111332e+05</td>\n      <td>2.309547e+05</td>\n      <td>1.608886e+05</td>\n    </tr>\n    <tr>\n      <th>min</th>\n      <td>66.184384</td>\n      <td>-98130.493248</td>\n      <td>164.403398</td>\n      <td>-36142.046581</td>\n      <td>-2.943915e+05</td>\n      <td>-3.254575e+05</td>\n      <td>-2.323270e+05</td>\n    </tr>\n    <tr>\n      <th>2.5%</th>\n      <td>305.202706</td>\n      <td>18963.663252</td>\n      <td>608.209973</td>\n      <td>9746.518862</td>\n      <td>5.689099e+04</td>\n      <td>7.217956e+04</td>\n      <td>4.751109e+04</td>\n    </tr>\n    <tr>\n      <th>50%</th>\n      <td>500.184639</td>\n      <td>114307.697847</td>\n      <td>1001.035867</td>\n      <td>48833.387032</td>\n      <td>3.429231e+05</td>\n      <td>3.943141e+05</td>\n      <td>2.749056e+05</td>\n    </tr>\n    <tr>\n      <th>97.5%</th>\n      <td>696.831718</td>\n      <td>290453.604036</td>\n      <td>1395.518132</td>\n      <td>112432.701256</td>\n      <td>8.713608e+05</td>\n      <td>9.669913e+05</td>\n      <td>6.724579e+05</td>\n    </tr>\n    <tr>\n      <th>max</th>\n      <td>982.580228</td>\n      <td>625004.311396</td>\n      <td>1827.061141</td>\n      <td>247453.297231</td>\n      <td>1.875013e+06</td>\n      <td>2.042271e+06</td>\n      <td>1.412267e+06</td>\n    </tr>\n  </tbody>\n</table>\n</div>"
     },
     "execution_count": 3,
     "metadata": {},
     "output_type": "execute_result"
    }
   ]
  },
  {
   "cell_type": "markdown",
   "source": [
    "Now, complete the following cells to obtain the results of the scenarios 2 and 3:"
   ],
   "metadata": {
    "collapsed": false
   }
  },
  {
   "cell_type": "code",
   "execution_count": null,
   "outputs": [],
   "source": [
    "scenario_2 = run_simulation(alg_avg=10, alg_std=3, alg_usr_avg=5, alg_usr_std=1)\n",
    "scenario_2.describe(percentiles=[0.025, 0.975])"
   ],
   "metadata": {
    "collapsed": false
   }
  },
  {
   "cell_type": "code",
   "execution_count": null,
   "outputs": [],
   "source": [
    "scenario_3 = run_simulation(alg_avg=100, alg_std=10, alg_usr_avg=8, alg_usr_std=2)\n",
    "scenario_3.describe(percentiles=[0.025, 0.975])"
   ],
   "metadata": {
    "collapsed": false
   }
  },
  {
   "cell_type": "markdown",
   "source": [
    "Discuss the results, if necessary, run additional simulations to analyse the impact in the revenues of the licensing and\n",
    "usage costs and the average number of hours in the different scenarios.\n"
   ],
   "metadata": {
    "collapsed": false
   }
  },
  {
   "cell_type": "code",
   "execution_count": 4,
   "outputs": [
    {
     "data": {
      "text/plain": "          algorithms     usage_cost   license_cost  license_revenue  \\\ncount  100000.000000  100000.000000  100000.000000    100000.000000   \nmean        9.987069     498.802048     999.571181       208.163109   \nstd         3.008540     242.346653     200.488324        88.408325   \nmin        -2.983864    -183.929899     153.635428       -65.265648   \n2.5%        4.078901     127.191405     605.840116        66.995497   \n50%         9.991401     464.742519     999.879210       197.338361   \n97.5%      15.857281    1063.761112    1390.842670       410.287759   \nmax        21.979010    2124.199556    1819.257705       823.182377   \n\n       usage_revenue  total_revenue     net_income  \ncount  100000.000000  100000.000000  100000.000000  \nmean     1496.406144    1704.569253   -3794.232795  \nstd       727.039960     787.590363     546.510686  \nmin      -551.789697    -609.371309   -5425.441410  \n2.5%      381.574215     484.691578   -4644.627101  \n50%      1394.227557    1596.572520   -3868.435956  \n97.5%    3191.283336    3530.842416   -2531.389472  \nmax      6372.598669    6983.148654     -89.247833  ",
      "text/html": "<div>\n<style scoped>\n    .dataframe tbody tr th:only-of-type {\n        vertical-align: middle;\n    }\n\n    .dataframe tbody tr th {\n        vertical-align: top;\n    }\n\n    .dataframe thead th {\n        text-align: right;\n    }\n</style>\n<table border=\"1\" class=\"dataframe\">\n  <thead>\n    <tr style=\"text-align: right;\">\n      <th></th>\n      <th>algorithms</th>\n      <th>usage_cost</th>\n      <th>license_cost</th>\n      <th>license_revenue</th>\n      <th>usage_revenue</th>\n      <th>total_revenue</th>\n      <th>net_income</th>\n    </tr>\n  </thead>\n  <tbody>\n    <tr>\n      <th>count</th>\n      <td>100000.000000</td>\n      <td>100000.000000</td>\n      <td>100000.000000</td>\n      <td>100000.000000</td>\n      <td>100000.000000</td>\n      <td>100000.000000</td>\n      <td>100000.000000</td>\n    </tr>\n    <tr>\n      <th>mean</th>\n      <td>9.987069</td>\n      <td>498.802048</td>\n      <td>999.571181</td>\n      <td>208.163109</td>\n      <td>1496.406144</td>\n      <td>1704.569253</td>\n      <td>-3794.232795</td>\n    </tr>\n    <tr>\n      <th>std</th>\n      <td>3.008540</td>\n      <td>242.346653</td>\n      <td>200.488324</td>\n      <td>88.408325</td>\n      <td>727.039960</td>\n      <td>787.590363</td>\n      <td>546.510686</td>\n    </tr>\n    <tr>\n      <th>min</th>\n      <td>-2.983864</td>\n      <td>-183.929899</td>\n      <td>153.635428</td>\n      <td>-65.265648</td>\n      <td>-551.789697</td>\n      <td>-609.371309</td>\n      <td>-5425.441410</td>\n    </tr>\n    <tr>\n      <th>2.5%</th>\n      <td>4.078901</td>\n      <td>127.191405</td>\n      <td>605.840116</td>\n      <td>66.995497</td>\n      <td>381.574215</td>\n      <td>484.691578</td>\n      <td>-4644.627101</td>\n    </tr>\n    <tr>\n      <th>50%</th>\n      <td>9.991401</td>\n      <td>464.742519</td>\n      <td>999.879210</td>\n      <td>197.338361</td>\n      <td>1394.227557</td>\n      <td>1596.572520</td>\n      <td>-3868.435956</td>\n    </tr>\n    <tr>\n      <th>97.5%</th>\n      <td>15.857281</td>\n      <td>1063.761112</td>\n      <td>1390.842670</td>\n      <td>410.287759</td>\n      <td>3191.283336</td>\n      <td>3530.842416</td>\n      <td>-2531.389472</td>\n    </tr>\n    <tr>\n      <th>max</th>\n      <td>21.979010</td>\n      <td>2124.199556</td>\n      <td>1819.257705</td>\n      <td>823.182377</td>\n      <td>6372.598669</td>\n      <td>6983.148654</td>\n      <td>-89.247833</td>\n    </tr>\n  </tbody>\n</table>\n</div>"
     },
     "execution_count": 4,
     "metadata": {},
     "output_type": "execute_result"
    }
   ],
   "source": [],
   "metadata": {
    "collapsed": false
   }
  },
  {
   "cell_type": "code",
   "execution_count": 7,
   "outputs": [
    {
     "data": {
      "text/plain": "          algorithms     usage_cost   license_cost  license_revenue  \\\ncount  100000.000000  100000.000000  100000.000000    100000.000000   \nmean       99.974365    7980.313427     999.555966      3327.306812   \nstd         9.966951    3290.219671     199.837992      1133.480349   \nmin        60.286770   -2687.758307      53.611019      -415.170422   \n2.5%       80.349869    2573.610526     605.393220      1406.494668   \n50%       100.004829    7626.983423    1000.182929      3227.393157   \n97.5%     119.432512   15302.524971    1390.004044      5846.625265   \nmax       140.673324   29083.625326    1864.923669     10690.699840   \n\n       usage_revenue  total_revenue     net_income  \ncount  100000.000000  100000.000000  100000.000000  \nmean    23940.940281   27268.247093   14287.933666  \nstd      9870.659012   10503.257970    7233.449173  \nmin     -8063.274921   -4246.313295   -7090.599031  \n2.5%     7720.831578    9916.550361    2283.319568  \n50%     22880.950268   26198.878343   13574.638688  \n97.5%   45907.574914   50489.963056   30254.424387  \nmax     87250.875979   93046.018350   58962.393024  ",
      "text/html": "<div>\n<style scoped>\n    .dataframe tbody tr th:only-of-type {\n        vertical-align: middle;\n    }\n\n    .dataframe tbody tr th {\n        vertical-align: top;\n    }\n\n    .dataframe thead th {\n        text-align: right;\n    }\n</style>\n<table border=\"1\" class=\"dataframe\">\n  <thead>\n    <tr style=\"text-align: right;\">\n      <th></th>\n      <th>algorithms</th>\n      <th>usage_cost</th>\n      <th>license_cost</th>\n      <th>license_revenue</th>\n      <th>usage_revenue</th>\n      <th>total_revenue</th>\n      <th>net_income</th>\n    </tr>\n  </thead>\n  <tbody>\n    <tr>\n      <th>count</th>\n      <td>100000.000000</td>\n      <td>100000.000000</td>\n      <td>100000.000000</td>\n      <td>100000.000000</td>\n      <td>100000.000000</td>\n      <td>100000.000000</td>\n      <td>100000.000000</td>\n    </tr>\n    <tr>\n      <th>mean</th>\n      <td>99.974365</td>\n      <td>7980.313427</td>\n      <td>999.555966</td>\n      <td>3327.306812</td>\n      <td>23940.940281</td>\n      <td>27268.247093</td>\n      <td>14287.933666</td>\n    </tr>\n    <tr>\n      <th>std</th>\n      <td>9.966951</td>\n      <td>3290.219671</td>\n      <td>199.837992</td>\n      <td>1133.480349</td>\n      <td>9870.659012</td>\n      <td>10503.257970</td>\n      <td>7233.449173</td>\n    </tr>\n    <tr>\n      <th>min</th>\n      <td>60.286770</td>\n      <td>-2687.758307</td>\n      <td>53.611019</td>\n      <td>-415.170422</td>\n      <td>-8063.274921</td>\n      <td>-4246.313295</td>\n      <td>-7090.599031</td>\n    </tr>\n    <tr>\n      <th>2.5%</th>\n      <td>80.349869</td>\n      <td>2573.610526</td>\n      <td>605.393220</td>\n      <td>1406.494668</td>\n      <td>7720.831578</td>\n      <td>9916.550361</td>\n      <td>2283.319568</td>\n    </tr>\n    <tr>\n      <th>50%</th>\n      <td>100.004829</td>\n      <td>7626.983423</td>\n      <td>1000.182929</td>\n      <td>3227.393157</td>\n      <td>22880.950268</td>\n      <td>26198.878343</td>\n      <td>13574.638688</td>\n    </tr>\n    <tr>\n      <th>97.5%</th>\n      <td>119.432512</td>\n      <td>15302.524971</td>\n      <td>1390.004044</td>\n      <td>5846.625265</td>\n      <td>45907.574914</td>\n      <td>50489.963056</td>\n      <td>30254.424387</td>\n    </tr>\n    <tr>\n      <th>max</th>\n      <td>140.673324</td>\n      <td>29083.625326</td>\n      <td>1864.923669</td>\n      <td>10690.699840</td>\n      <td>87250.875979</td>\n      <td>93046.018350</td>\n      <td>58962.393024</td>\n    </tr>\n  </tbody>\n</table>\n</div>"
     },
     "execution_count": 7,
     "metadata": {},
     "output_type": "execute_result"
    }
   ],
   "source": [
    "scenario_3 = run_simulation(alg_avg=100, alg_std=10, alg_usr_avg=8, alg_usr_std=2)\n",
    "scenario_3.describe(percentiles=[0.025, 0.975])"
   ],
   "metadata": {
    "collapsed": false
   }
  }
 ],
 "metadata": {
  "kernelspec": {
   "display_name": "Python 3",
   "language": "python",
   "name": "python3"
  },
  "language_info": {
   "codemirror_mode": {
    "name": "ipython",
    "version": 3
   },
   "file_extension": ".py",
   "mimetype": "text/x-python",
   "name": "python",
   "nbconvert_exporter": "python",
   "pygments_lexer": "ipython3",
   "version": "3.8.5"
  },
  "pycharm": {
   "stem_cell": {
    "cell_type": "raw",
    "source": [],
    "metadata": {
     "collapsed": false
    }
   }
  }
 },
 "nbformat": 4,
 "nbformat_minor": 2
}
