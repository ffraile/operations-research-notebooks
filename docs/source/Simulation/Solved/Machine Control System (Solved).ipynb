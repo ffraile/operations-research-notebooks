{
 "cells": [
  {
   "cell_type": "markdown",
   "metadata": {},
   "source": [
    "# Machine Control System\n",
    "## Problem definition\n",
    "The control system of a certain machine comprises two independent controls, A and B. This system is activated every hour the machine operates to check that the machine works according to suitable parameters. The controls have a limited life span. Indeed, control A has been replaced 52 times in the last 1,300 h of operation, whereas control B has been substituted 39 times in the same time.\n",
    "Every time the system is activated, apart from controlling the machine, it warns that one (or both) of the controls has failed. The faulty control is replaced before the system is next activated. When one of the two controls is replaced, its reliability is lower because it has not been verified. Specifically, it is considered that when the system is next activated, the reliability of the substituted control is half its normal value.\n",
    "Replacing control A entails a cost of €70 and of €50 for replacing control B.\n",
    "\n",
    "**a)** Consider the problem according to a Markov chain. Calculate the failure probability of each control according to its historic of failures. Calculate the reliability\n",
    "\n",
    "**b)** What is the hourly cost of the control system?\n"
   ]
  },
  {
   "cell_type": "markdown",
   "metadata": {},
   "source": [
    "We can define the following states:\n",
    "\n",
    "- s1: None of the controls are replaced\n",
    "- s2: control B is replaced\n",
    "- s3: control A is replaced\n",
    "- s4: Both controls are replaced.\n",
    "\n",
    "This is the one step transition matrix:\n",
    "\n",
    "| states  \t| s1     \t| s2     \t| s3     \t| s4     \t|\n",
    "|-----\t|--------\t|--------\t|--------\t|--------\t|\n",
    "| s1  \t| 0.9312 \t| 0.0288 \t| 0.0388 \t| 0.0012 \t|\n",
    "| s2  \t| 0.4656 \t| 0.4944 \t| 0.0194 \t| 0.0206 \t|\n",
    "| s3  \t| 0.4656 \t| 0.0144 \t| 0.5044 \t| 0.0156 \t|\n",
    "| s4  \t| 0.2328 \t| 0.2472 \t| 0.2522 \t| 0.2678 \t|\n",
    "\n",
    "\n",
    "Since control A has been replaced 52 times in 1300h, if we consider a sampling period of 1 hour, the fault probability is 0.04. For control B, fault probability is 0.03. The reliability is then 0.96 for control A and 0.97 for control B.\n",
    "\n",
    "The probability that none of the controls is replaced is 0.96·0.97 = 0.9312, so this is the probability that we remain in state 1.\n",
    "The probability that only control A is replaced is 0.04·0.97 (control A is faulty and control B is still operating normally). The probability that only control B is replaced is 0.96·0.03, and the probability that both remain operational is 0.03·0.04. This is how we obtain the first row.\n",
    "\n",
    "The problem states that if one control is replaced, the reliability of the replaced component is half the normal value. Therefore, if control B is replaced, the reliability goes down from 0.97 to 0.485. Now, the probability that both controls remain operational is 0.485·0.96 = 0.4656. The probability that only control B is replaced is 0.515·0.96 = 0.4944. The probability that only control A is replaced is 0.485·0.04 = 0,0194. And finally, the probability that both controls are replaced is 0.515·0.04. This is how we obtain the transition probabilities from state two.\n",
    "\n",
    "We can obtain the transition probabilities from state 3 in a similar manner. In this case, the reliability of control A goes down from 0.96 to 0.48, and therefore the fault probability goes up to 0.52. The reliability of control B in this case is the same as in state 1. Taking this into account we can derive the probabilities of the four possible state transitions. \n",
    "In state four, the reliability of both controllers is down to half their nominal values (0.48 and 0.485) and using these values we can obtain the transition probabilities and the final row.\n",
    "\n",
    "Once we have obtained the one step transition matrix, we can calculate the stationary probability vector and the average cost.\n",
    "\n"
   ]
  }
 ],
 "metadata": {
  "kernelspec": {
   "display_name": "Python 3",
   "language": "python",
   "name": "python3"
  },
  "language_info": {
   "codemirror_mode": {
    "name": "ipython",
    "version": 3
   },
   "file_extension": ".py",
   "mimetype": "text/x-python",
   "name": "python",
   "nbconvert_exporter": "python",
   "pygments_lexer": "ipython3",
   "version": "3.7.4"
  }
 },
 "nbformat": 4,
 "nbformat_minor": 2
}
