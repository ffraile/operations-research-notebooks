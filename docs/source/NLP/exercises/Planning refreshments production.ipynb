{
 "cells": [
  {
   "cell_type": "markdown",
   "metadata": {},
   "source": [
    "# Planning refreshment production\n",
    "A firm that packs refreshments employs the same syrup to produce its 1.5 l COLI and PEPSA products on its S1 production line. Once processed, each hectolitre of syrup produces 40 units of the 1.5 l COLI product or 20 units of the 1.5 l PEPSA product. If $x_1$ units of the 1.5 l COLI product and $x_2$ units of the 1.5 l PEPSA product are produced, the firm estimates that the daily income obtained in dollars would be given by the following function:\n",
    "\n",
    "$f(x) = 49000·x_1 -x_1^2 + 30·x_2 -2·x_2^2$\n",
    "\n",
    "It costs 150 dollars to buy and process each hectolitre of syrup. The S1 packaging line has a net capacity of producing 56,800 1.5 l product units every day. The firm is committed to produce at least half the amount of PEPSA than COLI. Although priority orders tend to amend its production planning, the firm wishes to have a basic product planning that optimises its daily profits.\n",
    "\n",
    "**a)** Formulate a non-linear programming model that helps the firm create its basic daily product planning for its S1 packaging line.\n",
    "\n",
    "**b)** Write down the Kuhn Tucker conditions that would help the company determine the basic daily production plan.\n",
    "\n",
    "**c)** The following critical point is found $x_1= 13838.33;  x_2= 6919.16; \\lambda_1=0; \\lambda_2=15323.34; z = 287249204.2$, where $\\lambda_1$ is the Lagrangian multiplier corresponding to the S1 packaging line capacity constraint. Can you conclude whether it is a local/global maximum? With this solution, What is the maximum quantity that the firm would be willing to pay for 1 h of overtime production? How much would the daily profit increase per additional COLI unit produced?"
   ]
  }
 ],
 "metadata": {
  "kernelspec": {
   "display_name": "Python 3",
   "language": "python",
   "name": "python3"
  },
  "language_info": {
   "codemirror_mode": {
    "name": "ipython",
    "version": 3
   },
   "file_extension": ".py",
   "mimetype": "text/x-python",
   "name": "python",
   "nbconvert_exporter": "python",
   "pygments_lexer": "ipython3",
   "version": "3.7.4"
  },
  "pycharm": {
   "stem_cell": {
    "cell_type": "raw",
    "source": [],
    "metadata": {
     "collapsed": false
    }
   }
  }
 },
 "nbformat": 4,
 "nbformat_minor": 2
}
