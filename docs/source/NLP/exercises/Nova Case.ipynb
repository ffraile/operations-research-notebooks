{
 "cells": [
  {
   "cell_type": "markdown",
   "metadata": {},
   "source": [
    "# Nova Case\n",
    "## Problem Definition\n",
    "You work for Nova case, a start-up company that manufactures protective cases for mobile phones made of a novel material.\n",
    "The marketing department of your company has estimated a formula for the optimal price elasticity of demand for the two different models you are currently selling online. \n",
    "Recall that the price elasticity of demand represents the relationship between the quantity and the price of a good or service. They have estimated that, for both products, \n",
    "the price elasticity follows the following expression:\n",
    "\n",
    "LQ = K + E·LP\n",
    "\n",
    "Where LQ is the logarithm of the quantity, LP is the logarithm of the price, K is the demand constant and E the demand elasticity. \n",
    "You are in charge of the production department and need to calculate the optimal production mix one planning period (1 day), taking into account this relationship between price and quantity. \n",
    "You have local production, and the most restrictive resource is the moulding machine which has different cycle time (in seconds) for each case.\n",
    "You also have a limited supply of the novel material and each model uses a different quantity of this material.\n",
    "In summary, this is the data of your first product: \n",
    "\n",
    "K1 = 4\n",
    "E1 = 2\n",
    "cycle time = 30 seconds\n",
    "key material quantity = 45 grams\n",
    "\n",
    "And for your second product:\n",
    "K2 = 8\n",
    "E2 = 2\n",
    "cycle time = 25 seconds\n",
    "key material quantity = 40 grams\n",
    "\n",
    "The total operational time of the moulding machine in the planning period is 6.5 hours and the supplier can provide you up to 40 kilograms per day of the novel material.\n",
    "\n",
    "**a.** Write down a Non-Linear Programming problem to calculate the optimal production mix. \n",
    "\n",
    "**b.** Write down the Kuhn Tucker conditions.\n",
    "\n",
    "**c.** Assume that you need to take into account in your model the initial stock level of each product at the beginning of the planning period. How does this affect your model? Motivate your response\n",
    "\n",
    "**d.** What would it mean if, in a Kuh Tucker point, the Lagrangian multiplier of the material quantity constraint was equal to zero?"
   ]
  }
 ],
 "metadata": {
  "kernelspec": {
   "display_name": "Python 3",
   "language": "python",
   "name": "python3"
  },
  "language_info": {
   "codemirror_mode": {
    "name": "ipython",
    "version": 3
   },
   "file_extension": ".py",
   "mimetype": "text/x-python",
   "name": "python",
   "nbconvert_exporter": "python",
   "pygments_lexer": "ipython3",
   "version": "3.7.4"
  },
  "pycharm": {
   "stem_cell": {
    "cell_type": "raw",
    "source": [],
    "metadata": {
     "collapsed": false
    }
   }
  }
 },
 "nbformat": 4,
 "nbformat_minor": 2
}
