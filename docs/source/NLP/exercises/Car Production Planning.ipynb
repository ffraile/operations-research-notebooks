{
 "cells": [
  {
   "cell_type": "markdown",
   "metadata": {},
   "source": [
    "# Car Production Planning\n",
    "The Operations Department of DINOCO automobile manufacturing and assembly firm must establish the daily production quantities of two car models (SUV and Compact) which maximise profits according to the production capacity constraints. The firm also wishes to respect the environment, and in the future to benefit its sales, given its commitment to increase the FFM (Fleet Fuel Mileage) indicator; that is, the mileage efficiency per litre of fuel of produced fleet. \n",
    "\n",
    "To simplify this study case, a linear relation between the sale price and the quantity to be produced is assumed, given by the following function: $q_i = a_i-b_i·p_i$, where $a_i$ and $b_i$ are constants provided in the table below, and $p_i$ is the mean unit price per family of cars in K€. Parameter $C_i$ is also provided, which represents the cost per unit for the cars of family i. \n",
    "\n",
    "The only productive resource that restricts the system is the assembly line. It is estimated that the firm spends 1 h every day on assembling SUV and Compact cars. The time required ($R_i$) to produce one unit of each family of cars and the remaining former data are shown in the table. \n",
    "\n",
    "| i   | Car model | a   | b   | C (K€) | R(seconds) | Kmpl |\n",
    "|-----|-----------|-----|-----|--------|------------|------|\n",
    "| 1   | SUV       | 440 | 20  | 17     | 54         | 12   |\n",
    "| 2   | Compact   | 248 | 12  | 13     | 56         | 20   |\n",
    "\n",
    "The FFM indicator, which must be at least 15 Kmpl, is calculated by\n",
    "using the harmonic mean: \n",
    "\n",
    "\n",
    "$FFM = \\frac{ q_1 + q_2}{\\Large \\frac{q_1}{kmpl_1} + \\Large \\frac{q_2}{kmpl_2}}$\n",
    "\n",
    "\n",
    "**a)** Formulate a non-linear programming model to help the Operations Department establish an optimum production plan which meets the existing constraints\n",
    "\n",
    "**b)** Find the Kuhn-Tucker conditions\n",
    "\n",
    "**c)** A solver provides the following solution: $q_1= 31.14$, $q_2 = 34.26$, $\\lambda_1 = -0.034$, $\\lambda_2 = 0$, where $\\lambda_1$ is the Lagrangian multiplier corresponding to the capacity constraint and $\\lambda_2$ is the Lagrangian multiplier of the FFM constraint. Interpret the results."
   ]
  }
 ],
 "metadata": {
  "kernelspec": {
   "display_name": "Python 3",
   "language": "python",
   "name": "python3"
  },
  "language_info": {
   "codemirror_mode": {
    "name": "ipython",
    "version": 3
   },
   "file_extension": ".py",
   "mimetype": "text/x-python",
   "name": "python",
   "nbconvert_exporter": "python",
   "pygments_lexer": "ipython3",
   "version": "3.7.4"
  }
 },
 "nbformat": 4,
 "nbformat_minor": 2
}
