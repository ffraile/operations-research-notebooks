{
 "cells": [
  {
   "cell_type": "markdown",
   "metadata": {},
   "source": [
    "# CLP Graphic solution example\n",
    "\n",
    "## Try me\n",
    " [![Open In Colab](../../_static/colabs_badge.png)](https://colab.research.google.com/github/ffraile/operations-research-notebooks/blob/main/docs/source/CLP/tutorials/graphic-solution-extended.ipynb)[![Binder](../../_static/binder_badge.png)](https://mybinder.org/v2/gh/ffraile/operations-research-notebooks/main?labpath=docs%2Fsource%2FCLP%2Ftutorials%2Fgraphic-solution-extended.ipynb)"
   ]
  },
  {
   "cell_type": "markdown",
   "metadata": {},
   "source": [
    "## Introduction\n",
    "In this notebook we analyse the graphic method to solve CLP problems of two variables. First, we will derive a CLP model of our problem, and then, we will use the Python plotting library matplotlib to obtain a graphical representation that we will use to find the optimal solution.\n",
    "\n",
    "The graphic method is not really a practical method to solve CLP problems, but rather, a quite didactic mean to gain understanding on the CLP. Later in the course, we will cover the Simplex algorithm, one of the most successful algorithms in history, which is an extension of this method. To put it into practice, we will use a simple blending problem defined below.  \n"
   ]
  },
  {
   "cell_type": "markdown",
   "metadata": {},
   "source": [
    "### Problem Definition\n",
    "The cost per gram of $M_{1}$ is 45 €cents\n",
    "\n",
    "The cost per gram $M_{2}$ is 12 €cents\n",
    "\n",
    "The final product has two nutritional properties that depend on $M_{1}$ and $M_{2}$, the non-saturated fat and the proteins.\n",
    "\n",
    "To meet the quality requirements, the final product must have no more than 0.5 percent of non-saturated fat and at least 8 percent proteins.\n",
    "\n",
    "The recip must have at least 2% of $M_{2}$. \n",
    "\n",
    "$M_{1}$ is 3 percent non-saturated fat and 80 percent protein.\n",
    "\n",
    "$M_{2}$ is 3 percent non-saturated fat and 20 percent protein.\n",
    "\n",
    "\n",
    "**> How many grams of M1 and M2 should be used in every 100 grams of product?**"
   ]
  },
  {
   "cell_type": "markdown",
   "metadata": {},
   "source": [
    "### Model\n",
    "The problem can be modeled as:\n",
    "\n",
    "$\\min Z = 45x_{1} + 12x_{2}$\n",
    "\n",
    "where:\n",
    "\n",
    "$x_{1}:$ grams of M1 per 100 grams of product\n",
    "\n",
    "$x_{2}:$ grams of M2 per 100 grams of product\n",
    "\n",
    "The objective function is subject to the following constraints:\n",
    "\n",
    "$x_{1} > 0$\n",
    "\n",
    "$x_{2} \\geq 2$\n",
    "\n",
    "$x_{1}+x_{2} \\leq 100$\n",
    "\n",
    "$3x_{1}+3x_{2} \\leq 50$\n",
    "\n",
    "$8x_{1} + 2x_{2} \\geq 80$"
   ]
  },
  {
   "cell_type": "markdown",
   "metadata": {},
   "source": [
    "### Solution \n",
    "We will use the [numpy](https://docs.scipy.org/doc/numpy/reference/index.html) library to create the decision space and the [pyplot](https://matplotlib.org/api/pyplot_api.html) library to represent the decision space. \n",
    "Numpy provides useful functions to create multidimensional arrays. Below, some tips of the functions we are going to use.\n",
    "\n",
    "### Numpy Functions\n",
    "The following subsections describe some functions of the [Numpy](https://numpy.org/) Python package that are used in this example. The [Numpy Tutorial](../../Introduction/libraries/Numpy%20tutorial.ipynb) includes comprehensive information about this package, but as a reminder and for the sake of completeness, here you can find a brief description of the functions used in this tutorial.\n",
    "\n",
    "#### Linspace\n",
    "We will use the function ```linspace``` to create the x-axis that represents the $x_{1}$ decision variable. Linspace receives as arguments the minimum and maximum values of the axis and the number of elements that we want in our axis.\n",
    "\n",
    "#### maximum and minimum\n",
    "We will use the functions maximum and minimum to obtain the lines that delimit the feasibility region. \n",
    "Minimum and maximum take two (multidimensional) arrays and provide an array with the element-wise minimum or maximum at each position.\n",
    "\n",
    "### Pyplot Functions\n",
    "Likewise, the following subsections describe some functions of the [Matplotlib](https://numpy.org/) Python package that we have used. The [Matplotlib Tutorial](../../Introduction/libraries/Matplotlib tutorial.ipynb) provides more information and sample codes of the library, but here is a brief guide of the main functions used in this tutorial.\n",
    "\n",
    "#### plot\n",
    "We will use the function plot to draw lines. Plot takes two arrays as parameters and uses the values of each position of the array as coordinates. We can add additional parameters as described [here](https://matplotlib.org/api/_as_gen/matplotlib.pyplot.plot.html). We will use one parameter to represent the labels.\n",
    "\n",
    "#### fill_between\n",
    "We will use the function fill_between to fill the area between two lines. Since we can only use two lines to call fill, we will need to use the numpy functions maximum and minimum to create the lines that we want to draw\n",
    "\n",
    "#### xlim, ylim\n",
    "We will use these functions to set the limits of both coordinates\n",
    "\n",
    "#### ylabel, xlabel, legend\n",
    "We will use these functions to add labels to the different axis and a legend to the figure\n",
    "\n"
   ]
  },
  {
   "cell_type": "markdown",
   "metadata": {},
   "source": [
    "### Feasibility region\n",
    "Let us determine the feasibility region by iteratively representing the different constraints in the decision space. We start by representing the possible values of $x_{1}$ and $x_{2}$ just taking into account the physical constraints:\n",
    "\n",
    "$x_{1} > 0$\n",
    "\n",
    "$x_{2} > 0$\n",
    "\n",
    "$x_{1}+x_{2} \\leq 100$\n"
   ]
  },
  {
   "cell_type": "code",
   "execution_count": 1,
   "metadata": {
    "pycharm": {
     "is_executing": false
    }
   },
   "outputs": [
    {
     "data": {
      "text/plain": "<matplotlib.legend.Legend at 0x1fd6b115460>"
     },
     "metadata": {},
     "output_type": "execute_result",
     "execution_count": 1
    },
    {
     "data": {
      "text/plain": "<Figure size 432x288 with 1 Axes>",
      "image/png": "[encoded data removed]"
     },
     "metadata": {
      "needs_background": "light"
     },
     "output_type": "display_data"
    }
   ],
   "source": [
    "#Import the numpy and pyplot libraries, we set the aliases np and plt so that it is easier to use\n",
    "import numpy as np\n",
    "import matplotlib.pyplot as plt\n",
    "\n",
    "#We set the mode inline of matplotlib to get the result at the output of the cell code\n",
    "%matplotlib inline\n",
    "\n",
    "# Construct lines, in our coordinate system x represents our decision variable x1 and y represents our decision variable x2\n",
    "# x > 0, we use the function linspace to create a linear space for x\n",
    "x = np.linspace(0, 100, 2000) #2000 numbers from 0 to 100\n",
    "# y1 represents the line of constraint y <= 100 - x\n",
    "y1 = 100 - x\n",
    "\n",
    "#y2 represents the line of constraint y > 0 (we need this function to call fill between)\n",
    "y2 = x*0\n",
    "\n",
    "#1. Make plot\n",
    "plt.plot(x, y1, label=r'$x_{1}+x_{2} \\leq 100$')\n",
    "\n",
    "\n",
    "#2. Adjust axis\n",
    "plt.xlim((0, 100))\n",
    "plt.ylim((0, 100))\n",
    "plt.xlabel(r'$x_{1}$')\n",
    "plt.ylabel(r'$x_{2}$')\n",
    "\n",
    "#3. Fill feasible region\n",
    "\n",
    "plt.fill_between(x, y1, y2, where=y1>y2, color='grey', alpha=0.5) #fill where y1 is greater than y2\n",
    "\n",
    "#4. plot legend\n",
    "plt.legend(bbox_to_anchor=(1.05, 1), loc=2, borderaxespad=0.)"
   ]
  },
  {
   "cell_type": "markdown",
   "metadata": {},
   "source": [
    "#### Introducing constraints\n",
    "No we enter the first constraint:\n",
    "\n",
    "$x_{1} > 0$\n",
    "\n",
    "$x_{2} \\geq 2$\n",
    "\n",
    "$x_{1}+x_{2} \\leq 100$\n",
    "\n",
    "We can see how this affects the feasibility area by representing again the equations"
   ]
  },
  {
   "cell_type": "code",
   "execution_count": 2,
   "metadata": {
    "pycharm": {
     "is_executing": false
    }
   },
   "outputs": [
    {
     "data": {
      "text/plain": "<matplotlib.legend.Legend at 0x1fd6c1628e0>"
     },
     "metadata": {},
     "output_type": "execute_result",
     "execution_count": 2
    },
    {
     "data": {
      "text/plain": "<Figure size 432x288 with 1 Axes>",
      "image/png": "[encoded data removed]"
     },
     "metadata": {
      "needs_background": "light"
     },
     "output_type": "display_data"
    }
   ],
   "source": [
    "import numpy as np\n",
    "import matplotlib.pyplot as plt\n",
    "%matplotlib inline\n",
    "\n",
    "# Construct lines, x represents our decision variable x1 and y represents our decision variable x2\n",
    "# x > 0\n",
    "x = np.linspace(0, 100, 2000) #2000 numbers from 0 to 100\n",
    "# y2 represents the line of constraint y <= 100 - x\n",
    "y1 = 100 - x\n",
    "y2 = x*0+2;\n",
    "\n",
    "#1. Make plot\n",
    "plt.plot(x, y1, label=r'$x_{1}+x_{2} \\leq 100$')\n",
    "plt.plot(x, y2, label=r'$x_{2}\\geq2$')\n",
    "\n",
    "#2. Adjust axis\n",
    "plt.xlim((0, 100))\n",
    "plt.ylim((0, 100))\n",
    "plt.xlabel(r'$x_{1}$')\n",
    "plt.ylabel(r'$x_{2}$')\n",
    "\n",
    "#3. Fill feasible region\n",
    "\n",
    "plt.fill_between(x, y1, y2, where=y1>y2, color='grey', alpha=0.5) #fill where y1 is greater than y2\n",
    "\n",
    "#4. plot legend\n",
    "plt.legend(bbox_to_anchor=(1.05, 1), loc=2, borderaxespad=0.)"
   ]
  },
  {
   "cell_type": "markdown",
   "metadata": {},
   "source": [
    "Now we enter the next constraint:\n",
    "\n",
    "$x_{1} > 0$\n",
    "\n",
    "$x_{2} \\geq 2$\n",
    "\n",
    "$x_{1}+x_{2} \\leq 100$\n",
    "\n",
    "$3x_{1}+3x_{2} \\leq 50$\n",
    "\n",
    "Again, we can check the effect on the feasibility region"
   ]
  },
  {
   "cell_type": "code",
   "execution_count": 3,
   "metadata": {
    "pycharm": {
     "is_executing": false
    }
   },
   "outputs": [
    {
     "data": {
      "text/plain": "<matplotlib.legend.Legend at 0x1fd7e444eb0>"
     },
     "metadata": {},
     "output_type": "execute_result",
     "execution_count": 3
    },
    {
     "data": {
      "text/plain": "<Figure size 432x288 with 1 Axes>",
      "image/png": "[encoded data removed]"
     },
     "metadata": {
      "needs_background": "light"
     },
     "output_type": "display_data"
    }
   ],
   "source": [
    "import numpy as np\n",
    "import matplotlib.pyplot as plt\n",
    "%matplotlib inline\n",
    "\n",
    "# Construct lines, x represents our decision variable x1 and y represents our decision variable x2\n",
    "# x > 0\n",
    "x = np.linspace(0, 100, 2000) #2000 numbers from 0 to 100\n",
    "# y2 represents the line of constraint y <= 100 - x\n",
    "y1 = 100 - x\n",
    "y2 = x*0+2;\n",
    "y3 = (50-3*x)/3.0\n",
    "\n",
    "#1. Make plot\n",
    "plt.plot(x, y1, label=r'$x_{1}+x_{2} \\leq 100$')\n",
    "plt.plot(x, y2, label=r'$x_{2}\\geq2$')\n",
    "plt.plot(x, y3, label=r'$3x_{1} + 3x_{2} \\leq 50$')\n",
    "\n",
    "#2. Adjust axis\n",
    "plt.xlim((0, 100))\n",
    "plt.ylim((0, 100))\n",
    "plt.xlabel(r'$x_{1}$')\n",
    "plt.ylabel(r'$x_{2}$')\n",
    "\n",
    "#3. Fill feasible region\n",
    "\n",
    "plt.fill_between(x, y3, y2, where=y3>y2, color='grey', alpha=0.5) #fill where y3 is greater than y2\n",
    "\n",
    "#4. plot legend\n",
    "plt.legend(bbox_to_anchor=(1.05, 1), loc=2, borderaxespad=0.)"
   ]
  },
  {
   "cell_type": "markdown",
   "metadata": {},
   "source": [
    "We can see that now the physical constraint $x_{1}+x_{2} \\leq 100$ does not have any impact on the feasibility region. We can focus on narrower intervals of $x_{1}$ and $x_{2}$ to search for the best solution. Let's also introduce the next constraint.\n",
    "\n",
    "$x_{1} > 0$\n",
    "\n",
    "$x_{2} \\geq 2$\n",
    "\n",
    "$x_{1}+x_{2} \\leq 100$\n",
    "\n",
    "$3x_{1}+3x_{2} \\leq 50$\n",
    "\n",
    "$8x_{1} + 2x_{2} \\geq 80$\n",
    "\n",
    "Now the feasibility region is:"
   ]
  },
  {
   "cell_type": "code",
   "execution_count": 4,
   "metadata": {
    "pycharm": {
     "is_executing": false
    }
   },
   "outputs": [
    {
     "data": {
      "text/plain": "<matplotlib.legend.Legend at 0x1fd6c15d100>"
     },
     "metadata": {},
     "output_type": "execute_result",
     "execution_count": 4
    },
    {
     "data": {
      "text/plain": "<Figure size 432x288 with 1 Axes>",
      "image/png": "[encoded data removed]"
     },
     "metadata": {
      "needs_background": "light"
     },
     "output_type": "display_data"
    }
   ],
   "source": [
    "import numpy as np\n",
    "import matplotlib.pyplot as plt\n",
    "%matplotlib inline\n",
    "\n",
    "# Construct lines, x represents our decision variable x1 and y represents our decision variable x2\n",
    "# x > 0\n",
    "x = np.linspace(0, 100, 2000) #2000 numbers from 0 to 100\n",
    "\n",
    "# y1 represents the physical constraint x + y <= 100\n",
    "y1 = 100 - x\n",
    "\n",
    "# y2 represents the line of constraint y >= 2\n",
    "y2 = x*0+2\n",
    "\n",
    "# y3 represents the constraint 3x + 3y <= 50\n",
    "y3 = (50-3*x)/3.0\n",
    "\n",
    "# y4 represents the line of the constraint 6x + 2y >= 4 \n",
    "y4 = (80 - 8*x)/2.0\n",
    "\n",
    "\n",
    "#1. Make plot\n",
    "plt.plot(x, y1, label=r'$x_{1}+x_{2} \\leq 100$') #y4\n",
    "plt.plot(x, y2, label=r'$x_{2}\\geq2$') #y1\n",
    "plt.plot(x, y3, label=r'$3x_{1} + 3x_{2} \\leq 50$') #y2\n",
    "plt.plot(x, y4, label=r'$8x_{2} + 2x_{1} \\geq 80$') #y3 \n",
    "\n",
    "#2. Adjust axis\n",
    "plt.xlim((0, 20))\n",
    "plt.ylim((0, 15))\n",
    "plt.xlabel(r'$x_{1}$')\n",
    "plt.ylabel(r'$x_{2}$')\n",
    "\n",
    "#3. Fill feasible region\n",
    "y5=np.maximum(y4, y3)  #line representing the maximum between y4 and y3\n",
    "y6=np.maximum(y2,y4)   #line representing the maximum between y2 and y4\n",
    "plt.fill_between(x, y5, y6, where=y5>y6, color='grey', alpha=0.5) #fill where y5 ys greater than y6\n",
    "\n",
    "#4. plot legend\n",
    "plt.legend(bbox_to_anchor=(1.05, 1), loc=2, borderaxespad=0.)"
   ]
  },
  {
   "cell_type": "markdown",
   "metadata": {},
   "source": [
    "The feasible region (in grey) contains all possible solutions to the objective function. \n",
    "\n",
    "Minima and maxima of linear programming problems are found at the vertices of the feasible region. Therefore, the solution is the minimum of the objective function between the three vertices.\n",
    "\n",
    "The three corners are the intersections between the lines:\n",
    "\n",
    "| Line 1      |   Line 2    | \n",
    "|-------------|:-----------:| \n",
    "| 3x +3y ≤ 50 | 8x +2y ≥ 80 | \n",
    "| 8x +2y ≥ 80 |    y ≥ 2    | \n",
    "| y ≥ 2       | 3x +3y ≤ 50 |\n",
    "\n",
    "Considering that the objective function is:\n",
    "\n",
    "Z = 45x + 12y\n",
    "\n",
    "We can calculate Z for each corner:"
   ]
  },
  {
   "cell_type": "markdown",
   "metadata": {},
   "source": [
    "1)\n",
    "\n",
    "  3x +3y ≤ 50 and 8x +2y ≥ 80  \n",
    "  (50-3x)/3 = (80 - 8x) / 2  \n",
    "  x = 7.78  \n",
    "  y = 8.86  \n",
    "  Z = 456.42  \n",
    "\n",
    "\n",
    "2)\n",
    "\n",
    "  8x +2y ≥ 80 and y ≥ 2  \n",
    "  (80 - 8x) / 2 = 2  \n",
    "  x = 9.5  \n",
    "  y = 2  \n",
    "  Z = 451.5  \n",
    "\n",
    "\n",
    "3)\n",
    "\n",
    "  y ≥ 2 - x and 3x +3y ≤ 50  \n",
    "  2 = (50 - 3x) / 3  \n",
    "  x = 14.67  \n",
    "  y = 2  \n",
    "  Z = 684  "
   ]
  },
  {
   "cell_type": "code",
   "execution_count": 5,
   "metadata": {
    "scrolled": true,
    "pycharm": {
     "is_executing": false
    }
   },
   "outputs": [
    {
     "data": {
      "text/plain": "<matplotlib.legend.Legend at 0x1fd7e5474f0>"
     },
     "metadata": {},
     "output_type": "execute_result",
     "execution_count": 5
    },
    {
     "data": {
      "text/plain": "<Figure size 432x288 with 1 Axes>",
      "image/png": "[encoded data removed]"
     },
     "metadata": {
      "needs_background": "light"
     },
     "output_type": "display_data"
    }
   ],
   "source": [
    "import numpy as np\n",
    "import matplotlib.pyplot as plt\n",
    "%matplotlib inline\n",
    "\n",
    "# Construct lines, x represents our decision variable x1 and y represents our decision variable x2\n",
    "# x > 0\n",
    "x = np.linspace(0, 100, 2000) #2000 numbers from 0 to 100\n",
    "\n",
    "# y1 represents the physical constraint x + y <= 100\n",
    "y1 = 100 - x\n",
    "\n",
    "# y2 represents the line of constraint y >= 2\n",
    "y2 = x*0+2\n",
    "\n",
    "# y3 represents the constraint 3x + 3y <= 50\n",
    "y3 = (50-3*x)/3.0\n",
    "\n",
    "# y4 represents the line of the constraint 6x + 2y >= 4 \n",
    "y4 = (80 - 8*x)/2.0\n",
    "\n",
    "y6 = (451.5 - 45*x)/12\n",
    "\n",
    "#1. Make plot\n",
    "plt.plot(x, y1, label=r'$x_{1}+x_{2} \\leq 100$') #y4\n",
    "plt.plot(x, y2, label=r'$x_{2}\\geq2$') #y1\n",
    "plt.plot(x, y3, label=r'$3x_{1} + 3x_{2} \\leq 50$') #y2\n",
    "plt.plot(x, y4, label=r'$8x_{1} + 2x_{2} \\geq 80$') #y3 \n",
    "plt.plot(x, y6, label=r'$45x_{1} + 12x_{2} = 451.5')\n",
    "\n",
    "#2. Adjust axis\n",
    "plt.xlim((0, 20))\n",
    "plt.ylim((0, 15))\n",
    "plt.xlabel(r'$x_{1}$')\n",
    "plt.ylabel(r'$x_{2}$')\n",
    "\n",
    "#3. Fill feasible region\n",
    "y5=np.maximum(y4, y3)  #line representing the maximum between y4 and y3\n",
    "y6=np.maximum(y2,y4)   #line representing the maximum between y2 and y4\n",
    "plt.fill_between(x, y5, y6, where=y5>y6, color='grey', alpha=0.5) #fill where y5 ys greater than y6\n",
    "\n",
    "#4. plot legend\n",
    "plt.legend(bbox_to_anchor=(1.05, 1), loc=2, borderaxespad=0.)"
   ]
  },
  {
   "cell_type": "markdown",
   "metadata": {},
   "source": [
    " We have successfully calculated that the minimum value for Z (451.5), when $x_{1}$ is 9.5 and $x_{2}$ is 2.\n",
    "\n",
    "This method of testing every vertex is only feasible for a small number of variables and constraints. As the numbers of constraints and variables increase, it becomes far more difficult to graph these problems and work out all the vertices. For example, if there were a third variable:\n",
    "\n",
    "Z = Ax + By + Cz\n",
    "\n",
    "We would have to graph in three dimensions (x, y and z).\n",
    "\n",
    "In the next few notebooks, we'll take a look at how we can use the graphical method to solve other CLP problems: \n",
    "\n",
    "- [Making Chappie solved with the graphical method](../solved/Making%20Chappie%20(Solved%20Graphic).ipynb)\n",
    "- [Making weapons solved with the graphical method](../solved/Making%20weapons%20(solved%20Graphic).ipynb)"
   ]
  }
 ],
 "metadata": {
  "kernelspec": {
   "display_name": "Python 3",
   "language": "python",
   "name": "python3"
  },
  "language_info": {
   "codemirror_mode": {
    "name": "ipython",
    "version": 3
   },
   "file_extension": ".py",
   "mimetype": "text/x-python",
   "name": "python",
   "nbconvert_exporter": "python",
   "pygments_lexer": "ipython3",
   "version": "3.7.4"
  },
  "pycharm": {
   "stem_cell": {
    "cell_type": "raw",
    "source": [],
    "metadata": {
     "collapsed": false
    }
   }
  }
 },
 "nbformat": 4,
 "nbformat_minor": 2
}
