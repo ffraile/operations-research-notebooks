{
 "cells": [
  {
   "cell_type": "markdown",
   "source": [
    "# March & Sanchis Investments\n",
    "\n",
    "## Try me\n",
    "[![Open In Colab](../../_static/colabs_badge.png)](https://colab.research.google.com/github/ffraile/operations-research-notebooks/blob/main/docs/source/CLP/solved/investments%20(Solved%20GRB).ipynb)[![Binder](../../_static/binder_badge.png)](https://mybinder.org/v2/gh/ffraile/operations-research-notebooks/main?labpath=docs%2Fsource%2FCLP%2Fsolved%2Finvestments%20(Solved%20GRB).ipynb)\n",
    "\n",
    "## Problem Definition\n",
    "Suppose you are a financial advisor at March & Sanchis Investments Ltd. and your client has €1,000,000 to invest in four different types of assets: stocks, bonds, real estate, and crypto assets, with the Expected Returns and risk (an estimation of the risk per euro invested) expressed in the table below:\n",
    "\n",
    "| Asset Type\t | Expected Return (%)\t| Risk (%) |\n",
    "|--------------|----------------------|----------|\n",
    "| Stocks\t     |10\t                  | 1.25     |\n",
    "| Bonds        |6\t                    | 0.5      |\n",
    "| Real Estate  |8\t                    | 0.7      |\n",
    "| Crypto Assets|15\t                  | 2.1      |\n",
    "\n",
    "Your task is to help the client select the optimal portfolio of investments, maximizing the Expected Return. Assume that the investments are independent and take into account the following constraints:\n",
    "\n",
    "- **Budget:** The total investment cannot exceed the budget of the client (€1,000,000)\n",
    "- **Personal Preferences:** The client wants to invest at least €200,000 in real estate due to personal interests in owning property, and does not want to invest more than €400,000 in crypto assets as she would like to be cautious and limit exposure.\n",
    "- **Risk:** The overall risk estimation cannot exceed 12% of the expected return"
   ],
   "metadata": {
    "collapsed": false
   }
  },
  {
   "cell_type": "markdown",
   "source": [
    "To model this as a continuous linear programming problem, let:\n",
    "\n",
    "- $x_1$ = Amount invested in stocks (€)\n",
    "- $x_2$ = Amount invested in bonds (€)\n",
    "- $x_3$ = Amount invested in real estate (€)\n",
    "- $x_4$ = Amount invested in crypto assets (€)\n",
    "\n",
    "Then, we want to maximize the expected return, which is given by:\n",
    "\n",
    "$\\max z = 0.1*x_1 + 0.06*x_2 + 0.08*x_3 + 0.15*x_4$ (Expected return in €)\n",
    "\n",
    "Subject to::\n",
    "\n",
    "\n",
    "$x_1 + x_2 + x_3 + x_4 = 1,000,000$ (total investment must equal $1,000,000)\n",
    "\n",
    "$0.0125*x_1 + 0.005*x_2 + 0.007*x_3 + 0.021*x_4 ≤ 0.12*(0.1*x_1 + 0.06*x_2 + 0.08*x_3 + 0.15*x_4)$ (risk limit: the risk of the portfolio, cannot exceed 12% of the total expected return)\n",
    "\n",
    "$x_3 ≥ 200,000$ (minimum investment in real estate: the client wants to invest at least €200,000 in real estate)\n",
    "\n",
    "$x_4 ≤ 400,000$ (maximum investment in crypto assets: the client is cautious about the high risk of crypto assets and does not want to invest more than $400,000 in them)"
   ],
   "metadata": {
    "collapsed": false
   }
  },
  {
   "cell_type": "code",
   "execution_count": 1,
   "outputs": [
    {
     "name": "stdout",
     "output_type": "stream",
     "text": [
      "Set parameter Username\n",
      "Academic license - for non-commercial use only - expires 2024-02-23\n"
     ]
    },
    {
     "data": {
      "text/plain": "<IPython.core.display.Markdown object>",
      "text/markdown": "Expected resturn is 110322.58 €"
     },
     "metadata": {},
     "output_type": "display_data"
    },
    {
     "data": {
      "text/plain": "<IPython.core.display.Markdown object>",
      "text/markdown": "The following table shows the decision variables: "
     },
     "metadata": {},
     "output_type": "display_data"
    },
    {
     "data": {
      "text/plain": "  Variables Solution (GRB) Reduced cost (GRB) Objective Coefficient (GRB)  \\\n1       x_1      116129.03               0.00                        0.10   \n2       x_2           0.00              -0.02                        0.06   \n3       x_3      483870.97               0.00                        0.08   \n4       x_4      400000.00               0.00                        0.15   \n\n  Objective Lower bound (GRB) Objective Upper bound (GRB)  \n1                        0.08                        0.12  \n2                        -Inf                        0.08  \n3                        0.05                        0.10  \n4                        0.12                         inf  ",
      "text/html": "<div>\n<style scoped>\n    .dataframe tbody tr th:only-of-type {\n        vertical-align: middle;\n    }\n\n    .dataframe tbody tr th {\n        vertical-align: top;\n    }\n\n    .dataframe thead th {\n        text-align: right;\n    }\n</style>\n<table border=\"1\" class=\"dataframe\">\n  <thead>\n    <tr style=\"text-align: right;\">\n      <th></th>\n      <th>Variables</th>\n      <th>Solution (GRB)</th>\n      <th>Reduced cost (GRB)</th>\n      <th>Objective Coefficient (GRB)</th>\n      <th>Objective Lower bound (GRB)</th>\n      <th>Objective Upper bound (GRB)</th>\n    </tr>\n  </thead>\n  <tbody>\n    <tr>\n      <th>1</th>\n      <td>x_1</td>\n      <td>116129.03</td>\n      <td>0.00</td>\n      <td>0.10</td>\n      <td>0.08</td>\n      <td>0.12</td>\n    </tr>\n    <tr>\n      <th>2</th>\n      <td>x_2</td>\n      <td>0.00</td>\n      <td>-0.02</td>\n      <td>0.06</td>\n      <td>-Inf</td>\n      <td>0.08</td>\n    </tr>\n    <tr>\n      <th>3</th>\n      <td>x_3</td>\n      <td>483870.97</td>\n      <td>0.00</td>\n      <td>0.08</td>\n      <td>0.05</td>\n      <td>0.10</td>\n    </tr>\n    <tr>\n      <th>4</th>\n      <td>x_4</td>\n      <td>400000.00</td>\n      <td>0.00</td>\n      <td>0.15</td>\n      <td>0.12</td>\n      <td>inf</td>\n    </tr>\n  </tbody>\n</table>\n</div>"
     },
     "metadata": {},
     "output_type": "display_data"
    },
    {
     "data": {
      "text/plain": "<IPython.core.display.Markdown object>",
      "text/markdown": "The following table shows the constraints: "
     },
     "metadata": {},
     "output_type": "display_data"
    },
    {
     "data": {
      "text/plain": "                            Constraint Right Hand Side       Slack  \\\n0                       Maximum_budget      1000000.00        0.00   \n1                                 Risk            0.00        0.00   \n2    Minimum_investment_in_real_estate       200000.00  -283870.97   \n3  Maximum_investment_in_crypto_assets       400000.00        0.00   \n\n  Shadow Price    Min RHS     Max RHS  \n0         0.10  861538.46  2053846.15  \n1         6.45    -360.00      880.00  \n2         0.00       -Inf   483870.97  \n3         0.03   48000.00   464285.71  ",
      "text/html": "<div>\n<style scoped>\n    .dataframe tbody tr th:only-of-type {\n        vertical-align: middle;\n    }\n\n    .dataframe tbody tr th {\n        vertical-align: top;\n    }\n\n    .dataframe thead th {\n        text-align: right;\n    }\n</style>\n<table border=\"1\" class=\"dataframe\">\n  <thead>\n    <tr style=\"text-align: right;\">\n      <th></th>\n      <th>Constraint</th>\n      <th>Right Hand Side</th>\n      <th>Slack</th>\n      <th>Shadow Price</th>\n      <th>Min RHS</th>\n      <th>Max RHS</th>\n    </tr>\n  </thead>\n  <tbody>\n    <tr>\n      <th>0</th>\n      <td>Maximum_budget</td>\n      <td>1000000.00</td>\n      <td>0.00</td>\n      <td>0.10</td>\n      <td>861538.46</td>\n      <td>2053846.15</td>\n    </tr>\n    <tr>\n      <th>1</th>\n      <td>Risk</td>\n      <td>0.00</td>\n      <td>0.00</td>\n      <td>6.45</td>\n      <td>-360.00</td>\n      <td>880.00</td>\n    </tr>\n    <tr>\n      <th>2</th>\n      <td>Minimum_investment_in_real_estate</td>\n      <td>200000.00</td>\n      <td>-283870.97</td>\n      <td>0.00</td>\n      <td>-Inf</td>\n      <td>483870.97</td>\n    </tr>\n    <tr>\n      <th>3</th>\n      <td>Maximum_investment_in_crypto_assets</td>\n      <td>400000.00</td>\n      <td>0.00</td>\n      <td>0.03</td>\n      <td>48000.00</td>\n      <td>464285.71</td>\n    </tr>\n  </tbody>\n</table>\n</div>"
     },
     "metadata": {},
     "output_type": "display_data"
    }
   ],
   "source": [
    "import pandas as pd\n",
    "import numpy as np\n",
    "from IPython.display import display, Markdown\n",
    "import pulp\n",
    "\n",
    "model = pulp.LpProblem(\"Maximising_investments\", pulp.LpMaximize)\n",
    "\n",
    "x = pulp.LpVariable.dicts(\"x\",\n",
    "                            (i+1 for i in range(4)),\n",
    "                            lowBound=0,\n",
    "                            upBound=1000000,\n",
    "                            cat='Continuous')\n",
    "\n",
    "\n",
    "\n",
    "model += 0.1*x[1] + 0.06*x[2] + 0.08*x[3] + 0.15*x[4]\n",
    "\n",
    "# Constraints\n",
    "## The total investment must equal $1,000,000\n",
    "model += x[1] + x[2] + x[3] + x[4] == 1000000, \"Maximum_budget\"\n",
    "\n",
    "## The estimated risk, cannot exceed 12% of the total expected return\n",
    "model += 0.0125*x[1] + 0.005*x[2] + 0.007*x[3] + 0.021*x[4] <= 0.12*(0.1*x[1] + 0.06*x[2] + 0.08*x[3] + 0.15*x[4]), \"Risk\"\n",
    "\n",
    "## The client wants to invest at least $200,000 in real estate\n",
    "model += x[3] >= 200000, \"Minimum_investment_in_real_estate\"\n",
    "\n",
    "## The client is cautious about the high risk of crypto assets and does not want to invest more than $400,000 in them\n",
    "model += x[4] <= 400000, \"Maximum_investment_in-crypto assets\"\n",
    "\n",
    "model.solve(solver=pulp.GUROBI(msg = 0))\n",
    "pulp.LpStatus[model.status]\n",
    "\n",
    "expected_return = pulp.value(model.objective)\n",
    "display(Markdown(\"Expected resturn is %0.2f €\"%expected_return))\n",
    "\n",
    "display(Markdown(\"The following table shows the decision variables: \"))\n",
    "var_df = pd.DataFrame.from_dict(x, orient=\"index\",\n",
    "                                columns = [\"Variables\"])\n",
    "var_df[\"Solution (GRB)\"] = var_df[\"Variables\"].apply(lambda item: \"{:.2f}\".format(item.solverVar.X))\n",
    "var_df[\"Reduced cost (GRB)\"] = var_df[\"Variables\"].apply(lambda item: \"{:.2f}\".format(item.solverVar.RC))\n",
    "var_df[\"Objective Coefficient (GRB)\"] = var_df[\"Variables\"].apply(lambda item: \"{:.2f}\".format(item.solverVar.Obj))\n",
    "var_df[\"Objective Lower bound (GRB)\"] = var_df[\"Variables\"].apply(lambda item: \"{:.2f}\".format(item.solverVar.SAObjLow) if item.solverVar.SAObjLow > -0.1 else \"-Inf\" )\n",
    "var_df[\"Objective Upper bound (GRB)\"] = var_df[\"Variables\"].apply(lambda item: \"{:.2f}\".format(item.solverVar.SAObjUp) if item.solverVar.SAObjUp != item.solverVar.UB else \"Inf\")\n",
    "\n",
    "\n",
    "display(var_df)\n",
    "\n",
    "\n",
    "const_dict = dict(model.constraints)\n",
    "con_df = pd.DataFrame.from_records(list(const_dict.items()), exclude=[\"Expression\"], columns=[\"Constraint\", \"Expression\"])\n",
    "con_df[\"Right Hand Side\"]=con_df[\"Constraint\"].apply(lambda item: \"{:.2f}\".format(const_dict[item].solverConstraint.RHS))\n",
    "con_df[\"Slack\"]=con_df[\"Constraint\"].apply(lambda item: \"{:.2f}\".format(const_dict[item].solverConstraint.Slack))\n",
    "con_df[\"Shadow Price\"]=con_df[\"Constraint\"].apply(lambda item: \"{:.2f}\".format(const_dict[item].solverConstraint.Pi))\n",
    "con_df[\"Min RHS\"]=con_df[\"Constraint\"].apply(lambda item: \"{:.2f}\".format(const_dict[item].solverConstraint.SARHSLow) if const_dict[item].solverConstraint.SARHSLow > -1e10 else \"-Inf\")\n",
    "con_df[\"Max RHS\"]=con_df[\"Constraint\"].apply(lambda item: \"{:.2f}\".format(const_dict[item].solverConstraint.SARHSUp) if const_dict[item].solverConstraint.SARHSUp < 1e10 else \"Inf\" )\n",
    "\n",
    "\n",
    "display(Markdown(\"The following table shows the constraints: \"))\n",
    "display(con_df)\n",
    "\n"
   ],
   "metadata": {
    "collapsed": false
   }
  },
  {
   "cell_type": "code",
   "execution_count": null,
   "outputs": [],
   "source": [],
   "metadata": {
    "collapsed": false
   }
  }
 ],
 "metadata": {
  "kernelspec": {
   "display_name": "Python 3",
   "language": "python",
   "name": "python3"
  },
  "language_info": {
   "codemirror_mode": {
    "name": "ipython",
    "version": 2
   },
   "file_extension": ".py",
   "mimetype": "text/x-python",
   "name": "python",
   "nbconvert_exporter": "python",
   "pygments_lexer": "ipython2",
   "version": "2.7.6"
  }
 },
 "nbformat": 4,
 "nbformat_minor": 0
}
