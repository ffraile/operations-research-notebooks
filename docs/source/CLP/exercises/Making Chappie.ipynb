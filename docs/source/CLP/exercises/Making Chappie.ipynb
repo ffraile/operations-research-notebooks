{
 "cells": [
  {
   "cell_type": "markdown",
   "metadata": {},
   "source": [
    "# Making Robots\n",
    "## Problem Definition\n",
    "The company Tetravaal located in Johannesburg manufactures two types of robots, Model $P_{1}$ and Model $P_{2}$. The production plant is consisted of four different sections:  metal machining, plastic moulding, electrical work and assembly. \n",
    "The metal machining section has a capacity of 7500 units of $P_{1}$ or 6000 units of $P_{2}$ per month. \n",
    "\n",
    "\n",
    "Plastic moulding can process 5000 units of $P_{1}$ or 9000 units of $P_{2}$ per month.\n",
    "\n",
    "Electrical work can process 6000 units of $P_{1}$ or 7000 units of $P_{2}$ per month.\n",
    "\n",
    "In Assembly, there are two assembly lines that work in parallel, one per each robot model.\n",
    "\n",
    "The first assembly line can process 4000 units of $P_{1}$ per month\n",
    "\n",
    "The second assembly line can process 5000 units of $P_{2}$ per month\n",
    "\n",
    "Knowing that the unitary profit of $P_{1}$ is 500€ and that the unitary profit of $P_{2}$ is 600€, and that both robots have a great demand and therefore all manufactured robots are sold, Michelle Bradley, CEO of Tetravaal, asks his engineering team: \n",
    "\n",
    "Calculate the number of units of each robot that needs to be manufactured to maximise profit for the company.\n",
    "\n",
    "## Write a CLP problem to calculate the number of units of each robot that needs to be manufactured to maximise profit for the company."
   ]
  }
 ],
 "metadata": {
  "kernelspec": {
   "display_name": "Python 3",
   "language": "python",
   "name": "python3"
  },
  "language_info": {
   "codemirror_mode": {
    "name": "ipython",
    "version": 3
   },
   "file_extension": ".py",
   "mimetype": "text/x-python",
   "name": "python",
   "nbconvert_exporter": "python",
   "pygments_lexer": "ipython3",
   "version": "3.7.4"
  },
  "pycharm": {
   "stem_cell": {
    "cell_type": "raw",
    "source": [],
    "metadata": {
     "collapsed": false
    }
   }
  }
 },
 "nbformat": 4,
 "nbformat_minor": 2
}
