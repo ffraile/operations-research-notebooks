{
 "cells": [
  {
   "cell_type": "markdown",
   "metadata": {},
   "source": [
    "# Ski Patrol\n",
    "## Problem Definition\n",
    "Ski Patrol Ltd. manufactures two different models of snowboards branded Normal and Deluxe with a weekly production plan and inventory. They sell their material to local shops. The company obtains a profit of 300€ per Normal snowboard and 400€ per Deluxe snowboard.\n",
    "The manufacturing process consists of roughing and polishing. The Normal snowboard model requires 20 minutes of roughing and 2/3 minutes of polishing. The Deluxe snowboard model requires 40 minutes of roughing and 1 minute of polishing. The roughing equipment is available for 1000 minutes per week and the polishing equipment for 800 minutes per week. \n",
    "Ski Patrol has already signed a contract with a local shop called Downhill Racer to deliver 18 Normal snowboards per week.\n",
    "\n",
    "Ski Patrol hires you to formulate a Linear Programming Problem to help them determine the best production mix to maximise benefits.\n",
    "\n",
    "**Write a CLP problem to maximize profits**\n",
    "\n"
   ]
  }
 ],
 "metadata": {
  "celltoolbar": "Tags",
  "kernelspec": {
   "display_name": "Python 3",
   "language": "python",
   "name": "python3"
  },
  "language_info": {
   "codemirror_mode": {
    "name": "ipython",
    "version": 3
   },
   "file_extension": ".py",
   "mimetype": "text/x-python",
   "name": "python",
   "nbconvert_exporter": "python",
   "pygments_lexer": "ipython3",
   "version": "3.7.4"
  },
  "pycharm": {
   "stem_cell": {
    "cell_type": "raw",
    "source": [],
    "metadata": {
     "collapsed": false
    }
   }
  }
 },
 "nbformat": 4,
 "nbformat_minor": 2
}
