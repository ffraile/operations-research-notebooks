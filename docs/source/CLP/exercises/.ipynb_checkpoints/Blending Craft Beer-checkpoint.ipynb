{
 "cells": [
  {
   "cell_type": "markdown",
   "metadata": {},
   "source": [
    "# Blending Craft Beer"
   ]
  },
  {
   "cell_type": "markdown",
   "metadata": {},
   "source": [
    "## Problem Definition\n",
    "\n",
    "Duff Beer is an american brewerie that sells alcoholic beverages worldwide. Duff beer has a very large market share in the US. One of the new business lines of Duff Beer is in the craft beer sector. Duff beer buys 3 types of wort from local suppliers. The availability of wort (in liters) and the price for each of them is specified in Table 1. \n",
    "\n",
    "**Table 1:** daily availability and cost of worts\n",
    "\n",
    "| Wort|   Availability (liters)|   Cost (€cents/liter) | \n",
    "|----------|----------------------|------------------------|\n",
    "|  Type 1       |        2500             |           120            |\n",
    "|  Type 2       |        1200             |           095            |\n",
    "|  Type 3       |        2000             |           150            |\n",
    "\n",
    "The blend of the three types of worts must comply with the following quality requirements: \n",
    "\n",
    "- For Beer Angels, no less than 60% of Type 3 and no more of 20% of Type 2. The price of one bottle of Beer Angel is 4.10€s/liter. \n",
    "\n",
    "- For Beer Beast, no less than 15% of Type 3 and no more than 60% of Type 2. The price of one bottle of Beer Beast is 2.80€s/liter.\n",
    "\n",
    "- For Beer Cactus, no more than 50% of type 2. The selling price is 2.45 €/liter.\n",
    "\n",
    "**Write a linear program to find the most profitable blend of worts to elaborate the three kinds of beers**"
   ]
  }
 ],
 "metadata": {
  "kernelspec": {
   "display_name": "Python 3 (ipykernel)",
   "language": "python",
   "name": "python3"
  },
  "language_info": {
   "codemirror_mode": {
    "name": "ipython",
    "version": 3
   },
   "file_extension": ".py",
   "mimetype": "text/x-python",
   "name": "python",
   "nbconvert_exporter": "python",
   "pygments_lexer": "ipython3",
   "version": "3.11.1"
  }
 },
 "nbformat": 4,
 "nbformat_minor": 1
}
