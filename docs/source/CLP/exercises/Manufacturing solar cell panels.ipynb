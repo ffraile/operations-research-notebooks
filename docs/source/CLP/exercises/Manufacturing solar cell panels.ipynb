{
 "cells": [
  {
   "cell_type": "markdown",
   "metadata": {},
   "source": [
    "# Resourcing: Product Mix of Aluminium Windows"
   ]
  },
  {
   "cell_type": "markdown",
   "metadata": {},
   "source": [
    "## Problem Definition\n",
    "\n",
    "Weyland Corp is a British firm that manufactures solar panel cells. This firm supplies three different types of cell called: fast, normal and ultra. There are three operations involved in the manufacturing process. The following table describes the hours/month required to manufacture each model:\n",
    "\n",
    "**Table 1:** hours/month requirements\n",
    "\n",
    "| Operation | Fast (hours/month) | Normal (hours/month) | Ultra (hours/month) | \n",
    "|-----------|--------------------|----------------------|---------------------|\n",
    "| 1         | 1                  | 3                    | 2                   |\n",
    "| 2         | 2                  | 0                    | 3                   |\n",
    "| 3         | 1                  | 4                    | 0                   |\n",
    "\n",
    "And the following table describes the total hours available for each operation:\n",
    "\n",
    "**Table 2:** Total hours/month available\n",
    "\n",
    "| Operation | Hours/Month |\n",
    "|-----------|-------------|\n",
    "| 1         | 400         |\n",
    "| 2         | 600         |\n",
    "| 3         | 600         |\n",
    "\n",
    "The profit per each model is specified in the following table:\n",
    "**Table 3:** Unit of profit per model\n",
    "\n",
    "| Model    | Profit/Unit |\n",
    "|----------|-------------|\n",
    "| Normal   | 30          |\n",
    "| Economic | 20          |\n",
    "| Luxury   | 40          |\n",
    "\n",
    "## Analysis questions\n",
    "\n",
    "The following solution has been obtained using PuLP and the CBC solver.\n",
    "\n",
    "The value for the overall profit is: \n",
    "\n",
    "z = 9666.67\n",
    "\n",
    "The following table shows the values of the decision variables and their corresponding reduced costs:\n",
    "\n",
    "|        | Variables    |   Solution |   Reduced cost |\n",
    "|:-------|:-------------|-----------:|---------------:|\n",
    "| fast   | cells_fast   |        300 |             -0 |\n",
    "| normal | cells_normal |    33.3333 |             -0 |\n",
    "| ultra  | cells_ultra  |          0 |       -8.33333 |\n",
    "\n",
    "The following table shows the slack values of the constraints and their corresponding shadow prices:\n",
    "\n",
    "|    | Constraint   |   Right Hand Side |   Slack |   Shadow Price |\n",
    "|---:|:-------------|------------------:|--------:|---------------:|\n",
    "|  0 | Operation_1  |               400 |      -0 |        6.66667 |\n",
    "|  1 | Operation_2  |               600 |      -0 |        11.6667 |\n",
    "|  2 | Operation_3  |               600 | 166.667 |             -0 |\n",
    "\n",
    "Based on this solution, try to answer the following **analysis questions**\n",
    "### Question 1\n",
    "Peter Weyland believes that, for the reputation of the company, Weyland should manufacture at least 40 ultra cells per month. If this plan goes ahead, how would it affect the current profit?\n",
    "\n",
    "\n",
    "### Question 2\n",
    "The engineer informed management that due to maintenance operations, the capacities of Operation 1, 2, and 3 have changed to 360, 600 and 500 respectively. How would this affect the profit?"
   ]
  },
  {
   "cell_type": "markdown",
   "source": [
    "### Question 3\n",
    "Mr. Weyland insisted that the company needs to change the strategy towards producing ultra-fast cells to position Weyland Corp in this segment. The company reviewed the prices of the ultra-fast cells and changed them to 30€, 10€ and 50€ per fast, normal and ultra cells. With the new prices, would it be profitable to produce ultra-fast cells?\n",
    "\n",
    "\n",
    "### Question 4\n",
    "What is the impact in the new profit if we opted for this new prices?"
   ],
   "metadata": {
    "collapsed": false
   }
  },
  {
   "cell_type": "markdown",
   "source": [
    "#### Question 5\n",
    "The engineer is studying a new type of fast cells that would require 2 hours of operation 1, 0 hours of operation 2 and 1 hour of operation 3. The estimated market price is 20€. How would this affect the production plan?"
   ],
   "metadata": {
    "collapsed": false
   }
  },
  {
   "cell_type": "markdown",
   "source": [
    "## Question 6\n",
    "Mr. Weyland thinks that the operation time for Operation 2 for the normal cells can be cut to only 3h. How would this improve the production plan?\n",
    "\n"
   ],
   "metadata": {
    "collapsed": false
   }
  }
 ],
 "metadata": {
  "kernelspec": {
   "display_name": "Python 3",
   "language": "python",
   "name": "python3"
  },
  "language_info": {
   "codemirror_mode": {
    "name": "ipython",
    "version": 3
   },
   "file_extension": ".py",
   "mimetype": "text/x-python",
   "name": "python",
   "nbconvert_exporter": "python",
   "pygments_lexer": "ipython3",
   "version": "3.7.3"
  }
 },
 "nbformat": 4,
 "nbformat_minor": 1
}
