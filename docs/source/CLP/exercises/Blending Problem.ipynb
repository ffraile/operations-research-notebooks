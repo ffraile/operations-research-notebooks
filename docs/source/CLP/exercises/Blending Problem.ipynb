{
 "cells": [
  {
   "cell_type": "markdown",
   "metadata": {},
   "source": [
    "# Blending Problem\n",
    "## Problem definition"
   ]
  },
  {
   "cell_type": "markdown",
   "metadata": {},
   "source": [
    "The Kahuna company manufactures sausages using three kinds of meat. The relevant information about the ingredients is provided in the table below:\n",
    "\n",
    "\n",
    "\n",
    "| Ingredient | Cost (€/kg)  | Availability (kg) |\n",
    "|------------|--------------|-------------------|\n",
    "|  Pork      | 4.32         | 30                |\n",
    "|  Wheat     | 2.46         | 20                |\n",
    "|  Starch    | 1.86         | 17                |\n",
    "\n",
    "The company makes two types of sausages:\n",
    "* Economy (>=40% Pork)\n",
    "* Premium (>=60% Pork)\n",
    "\n",
    "One sausage is 50 grams (0.05 kg)\n",
    "\n",
    "According to government regulations, the most starch we can use in our sausages is 25%\n",
    "\n",
    "We have a contract with a butcher, and have already purchased 23 kg pork, that will go bad if it's not used.\n",
    "\n",
    "We have a demand for 350 economy sausages and 500 premium sausages.\n",
    "\n",
    "**Write a linear program to figure out the most cost-effective recipe to manufacture our sausages.**\n"
   ]
  }
 ],
 "metadata": {
  "kernelspec": {
   "display_name": "Python 3",
   "language": "python",
   "name": "python3"
  },
  "language_info": {
   "codemirror_mode": {
    "name": "ipython",
    "version": 3
   },
   "file_extension": ".py",
   "mimetype": "text/x-python",
   "name": "python",
   "nbconvert_exporter": "python",
   "pygments_lexer": "ipython3",
   "version": "3.7.4"
  },
  "pycharm": {
   "stem_cell": {
    "cell_type": "raw",
    "source": [],
    "metadata": {
     "collapsed": false
    }
   }
  }
 },
 "nbformat": 4,
 "nbformat_minor": 1
}
