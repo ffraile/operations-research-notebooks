{
 "nbformat": 4,
 "nbformat_minor": 0,
 "metadata": {
  "colab": {
   "name": "Nasty factorial.ipynb",
   "provenance": [],
   "authorship_tag": "ABX9TyN18vVZdz9lHAg8AcCm+Z08",
   "include_colab_link": true
  },
  "kernelspec": {
   "name": "python3",
   "display_name": "Python 3"
  },
  "language_info": {
   "name": "python"
  },
  "pycharm": {
   "stem_cell": {
    "cell_type": "raw",
    "source": [],
    "metadata": {
     "collapsed": false
    }
   }
  }
 },
 "cells": [
  {
   "cell_type": "markdown",
   "metadata": {
    "id": "view-in-github",
    "colab_type": "text"
   },
   "source": [
    "## Try me\n",
    " [![Open In Colab](../../_static/colabs_badge.png)](https://colab.research.google.com/github/ffraile/operations-research-notebooks/blob/main/docs/source/MIP/tutorials/Ordering%20example.ipynb)[![Binder](../../_static/binder_badge.png)](https://mybinder.org/v2/gh/ffraile/operations-research-notebooks/main?labpath=docs%2Fsource%2FMIP%2Ftutorials%2FOrdering%20example.ipynb)"
   ]
  },
  {
   "cell_type": "markdown",
   "source": [
    "# Introduction\n",
    "Ordering is not as simple as it seems. Ordering an array of length N implies finding the right sequence of elements out of N! possible sequences. The exclamation mark is the factorial operator, and this makes the size of the problem increase really fast with N. \n",
    "To illustrate how fast, just try this script:"
   ],
   "metadata": {
    "id": "ioUz1baeykn_"
   }
  },
  {
   "cell_type": "code",
   "execution_count": 9,
   "metadata": {
    "colab": {
     "base_uri": "https://localhost:8080/",
     "height": 282
    },
    "id": "CPK8vfa1ZdN4",
    "outputId": "76a99016-d404-47fa-b834-9c1fcb21a2d4"
   },
   "outputs": [
    {
     "output_type": "execute_result",
     "data": {
      "text/plain": [
       "[<matplotlib.lines.Line2D at 0x7fdd03848a90>]"
      ]
     },
     "metadata": {},
     "execution_count": 9
    },
    {
     "output_type": "display_data",
     "data": {
      "image/png": "[encoded data removed]",
      "text/plain": [
       "<Figure size 432x288 with 1 Axes>"
      ]
     },
     "metadata": {
      "needs_background": "light"
     }
    }
   ],
   "source": [
    "import numpy as np\n",
    "from scipy.special import factorial\n",
    "from matplotlib import pyplot as plt\n",
    "from datetime import datetime\n",
    "\n",
    "# generate an array of any size\n",
    "x = np.arange(0,10)\n",
    "\n",
    "# calculate the factorial of every element of the array\n",
    "y = factorial(x)\n",
    "#plot\n",
    "plt.plot(x,y)"
   ]
  },
  {
   "cell_type": "code",
   "source": [
    "\n",
    "# Let's change the order of the numbers randomly\n",
    "np.random.shuffle(x)\n",
    "#print(x)\n",
    "#now, Let's take a reference of the time before sorting\n",
    "init_time = datetime.now()\n",
    "# Let's sort, note that the right ordering sequence is 1 out of n!\n",
    "y = np.sort(x)\n",
    "#Let's take another reference of the time after sorting and measure the \n",
    "#difference in seconds:\n",
    "end_time = datetime.now()\n",
    "duration = duration = end_time - init_time\n",
    "print(f\"all righty, i ordered the array in {duration.total_seconds()} seconds\")\n",
    "# print(y)"
   ],
   "metadata": {
    "colab": {
     "base_uri": "https://localhost:8080/"
    },
    "id": "KIACh89Qto0p",
    "outputId": "dce78794-36b3-4be6-fc40-505dad3b160e",
    "pycharm": {
     "name": "#%%\n"
    }
   },
   "execution_count": 11,
   "outputs": [
    {
     "output_type": "stream",
     "name": "stdout",
     "text": [
      "[5 2 4 8 0 1 6 7 3 9]\n",
      "all righty, i ordered the array in 0.000207 seconds\n",
      "[0 1 2 3 4 5 6 7 8 9]\n"
     ]
    }
   ]
  },
  {
   "cell_type": "code",
   "source": [
    "# Let's generate an array of different sizes\n",
    "n = [10, 100, 1000, 100000]\n",
    "#Init the computing time\n",
    "computing_time = np.zeros(len(n))\n",
    "\n",
    "# Do the steps in the scripts above for every size in the array n\n",
    "for i in range(len(n)):\n",
    "  arr_length=n[i]\n",
    "  x_arr = np.arange(0,arr_length)\n",
    "  np.random.shuffle(x_arr)\n",
    "  init_time = datetime.now()\n",
    "  np.sort(x_arr)\n",
    "  end_time = datetime.now()\n",
    "  duration = duration = end_time - init_time\n",
    "  computing_time[i] = duration.total_seconds()\n",
    "\n",
    "#Plot the results\n",
    "plt.plot(n, computing_time)"
   ],
   "metadata": {
    "colab": {
     "base_uri": "https://localhost:8080/",
     "height": 282
    },
    "id": "xKwn6f3Vv-jk",
    "outputId": "e68ca8ca-2ab7-49e6-ac8a-0dd5ab9eed19"
   },
   "execution_count": 13,
   "outputs": [
    {
     "output_type": "execute_result",
     "data": {
      "text/plain": [
       "[<matplotlib.lines.Line2D at 0x7fdd0376db50>]"
      ]
     },
     "metadata": {},
     "execution_count": 13
    },
    {
     "output_type": "display_data",
     "data": {
      "image/png": "[encoded data removed]",
      "text/plain": [
       "<Figure size 432x288 with 1 Axes>"
      ]
     },
     "metadata": {
      "needs_background": "light"
     }
    }
   ]
  },
  {
   "cell_type": "markdown",
   "source": [
    "This simple script shows empirically that the algorithm used by numpy is really efficient! The computing time seems to increase linearly with the size of the problem. This video illustrates how sorting algorithms work.\n",
    "\n",
    "[![Sorting algorithms](http://img.youtube.com/vi/kPRA0W1kECg/0.jpg)](http://www.youtube.com/watch?v=kPRA0W1kECg \"Sorting algorithms\")"
   ],
   "metadata": {
    "id": "hgvmJMn-zgOy"
   }
  }
 ]
}
