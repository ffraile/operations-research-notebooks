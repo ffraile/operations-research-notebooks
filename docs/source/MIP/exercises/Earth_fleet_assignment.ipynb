{
  "nbformat": 4,
  "nbformat_minor": 0,
  "metadata": {
    "colab": {
      "provenance": []
    },
    "kernelspec": {
      "name": "python3",
      "display_name": "Python 3"
    },
    "language_info": {
      "name": "python"
    }
  },
  "cells": [
    {
      "cell_type": "markdown",
      "source": [
        "# Earth's Fleet Assignment\n",
        "## Problem Definition\n",
        "In the year 2357, tensions between Earth, Mars, and the Belt are at an all-time high. The United Nations Navy (UNN) must deploy vessels to ensure the statibility in earth's colony and provide security to supply chain operations across the solar system.\n",
        "\n",
        "More specifically, Earth needs to assign **five available warships** (UNN Agatha King,  to secure **five colonies** in need of military assistance: Ceres, Ganymede, Europa, Io, and Callisto.\n",
        "\n",
        "Each vessel as an associated cost for each mission, that depends on factors such as suitability, operational range, and efficiency. The costs are provided in the table below in M€:\n",
        "\n",
        "| Vessel / Colony | Ceres | Ganymede | Io | Europa | Callisto |\n",
        "|-----------------|-------|----------|----|--------|----------|\n",
        "| UNN Agatha King | 12    | 18       |25  | 30     | 14       |\n",
        "| UNN Nathan Hale | 20    | 14       |22  | 24     | 18       |\n",
        "| UNN Donnager    | 30    | 12       |18  | 16     | 10       |\n",
        "| UNN Rocinante   | 15    | 22       |28  | 12     | 20       |\n",
        "| UNN Behemoth    | 18    | 20       |30  | 14     | 12       |\n",
        "\n",
        "1. Formulate an Integer Programming model to minimize the total cost of  vessel assignments while ensuring every colony gets a vessel.\n",
        "\n",
        "2. Draw a graph to solve the problem using graph algorithms.\n",
        "\n",
        "3. Describe a strategy to design a greedy algorithm to solve the problem."
      ],
      "metadata": {
        "id": "2xUz9bjF6iUT"
      }
    }
  ]
}