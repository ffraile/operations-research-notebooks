{
 "cells": [
  {
   "cell_type": "markdown",
   "metadata": {},
   "source": [
    "# Setting oil prices in the 70s\n",
    "## Problem definition\n",
    "In the 1970s, the OPEP countries adopted a price-linking strategy and oil prices went from €3/barrel to a level above €30/barrel. Analysts foresaw that prices could rise to over €100/barrel by the end of the twentieth century. Unexpectedly however, the cartel failed and prices went down again. Therefore, what are the conditions for these cartels to survive? In other words, what determines the equilibrium between cooperation and competition? This problem is similar to the prisoner’s dilemma.\n",
    "\n",
    "To simplify matters, it is assumed that only two producers exist, Saudi Arabia and Iran, and that there are only three possible production levels: 2, 4 and 6 million barrels/day. So, depending on the two players’ decisions, total world production is 4, 6, 8, 10 and 12 million barrels/day. Accordingly, world prices are 35, 30, 25, 15 or only 10€/barrel. The production costs of one barrel are considered to be €2 for Saudi Arabia and €4 for Iran.\n",
    "\n",
    "**a)** The intention is to maximise the difference between the profit of a producer and that of its competitor. Consider and solve the case as if it were a zero-sum game with two players.\n",
    "\n",
    "**b)** If the idea is to seek OPEP’s prime objective by avoiding mutual competition and regulating oil production, sales and prices, what is the best option for Saudi Arabia and for Iran if they cooperate with each other and try to\n",
    "simultaneously obtain the best profit each?"
   ]
  },
  {
   "cell_type": "code",
   "execution_count": null,
   "metadata": {},
   "outputs": [],
   "source": []
  }
 ],
 "metadata": {
  "kernelspec": {
   "display_name": "Python 3",
   "language": "python",
   "name": "python3"
  },
  "language_info": {
   "codemirror_mode": {
    "name": "ipython",
    "version": 3
   },
   "file_extension": ".py",
   "mimetype": "text/x-python",
   "name": "python",
   "nbconvert_exporter": "python",
   "pygments_lexer": "ipython3",
   "version": "3.7.4"
  },
  "pycharm": {
   "stem_cell": {
    "cell_type": "raw",
    "source": [],
    "metadata": {
     "collapsed": false
    }
   }
  }
 },
 "nbformat": 4,
 "nbformat_minor": 2
}
