{
 "cells": [
  {
   "cell_type": "markdown",
   "metadata": {},
   "source": [
    "# Selecting Suppliers\n",
    "## Problem Definition\n",
    "Your company, Altered Silicon, manufactures solar energy panels, and it has received an urgent order for 40 panels from a new German customer which is willing to pay 1,000€ per panel. Altered Silicon has committed its production capacity to other orders, and the only alternative left to serve the new order is to subcontract the production involved.\n",
    "\n",
    "Altered Silicon has located two possible suppliers: \n",
    " - Supplier A: based in Romania, placed an offer of 500€ per panel \n",
    " - Supplier B: from Poland, which would sell each panel for 550€ \n",
    " \n",
    "The cost to transport one batch of 40 panels from either of the\n",
    "two suppliers to the German firm is 1,000€. Nonetheless, the customer’s technical specifications are very demanding, so Altered Silicon estimates that Supplier A could supply one correct batch with a probability of 70%, whereas Supplier B could do it with a probability of 80 %. If the batch were incorrect, Altered Silicon could sell it to another customer at the price of 200€ per\n",
    "panel.\n",
    "Altered Silicon is considering the possibility of asking for a test panel from each supplier to test it before placing an order. Altered Silicon’s testing system guarantees that a faulty panel is always detected, while there is a 5% margin of error with correct panels.\n",
    "The testing system is prepared to assess two test panels, and the overall cost (cost of the two panels + transport + cost of the test) comes to 2,000€.\n",
    "\n",
    "**a** Draw the corresponding decision tree and indicate with a letter per branch the associated probability or the associated cost (depending on the case)\n",
    "\n",
    "**b** Solve the decision tree\n",
    "\n",
    "**c** Up to how much should SUN2 pay for the test?"
   ]
  }
 ],
 "metadata": {
  "kernelspec": {
   "display_name": "Python 3",
   "language": "python",
   "name": "python3"
  },
  "language_info": {
   "codemirror_mode": {
    "name": "ipython",
    "version": 3
   },
   "file_extension": ".py",
   "mimetype": "text/x-python",
   "name": "python",
   "nbconvert_exporter": "python",
   "pygments_lexer": "ipython3",
   "version": "3.7.4"
  },
  "pycharm": {
   "stem_cell": {
    "cell_type": "raw",
    "source": [],
    "metadata": {
     "collapsed": false
    }
   }
  }
 },
 "nbformat": 4,
 "nbformat_minor": 2
}
