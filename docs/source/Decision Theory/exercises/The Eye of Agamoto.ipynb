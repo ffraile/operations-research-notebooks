{
 "cells": [
  {
   "cell_type": "markdown",
   "metadata": {
    "collapsed": true
   },
   "source": [
    "# The eye of Agamoto\n",
    "## Problem Definition\n",
    "Doctor Stephen Strange is the chief surgeon at the Metropolitan General Hospital in New York. Doctor Strange needs to decide whether to perform surgery or not on a patient with a rare disease. If the patient dies, the hospital must pay a 3M€ compensation, and the cost of the surgery is estimated in 1.5M€. Based on available data, the medical department estimates that the probability of the patient surviving without surgery is 20%, while the probability of the patient surviving with surgery is 75%. Let us use operational research to determine if Doctor Strange should hold the knife:\n",
    "\n",
    "**a.** Draw the decision tree to support doctor Strange with this decision problem\n",
    "\n",
    "**b.** Solve the decision tree\n",
    "\n",
    "**c.** Doctor Strange can use a procedure with a device known as the Eye of Agamoto to get additional information of the result of the surgery, with a cost of 0.5M€. Draw the decision tree incorporating the use of the Eye of Agamoto in the decision problem\n",
    "\n",
    "\n"
   ]
  }
 ],
 "metadata": {
  "kernelspec": {
   "display_name": "Python 3",
   "language": "python",
   "name": "python3"
  },
  "language_info": {
   "codemirror_mode": {
    "name": "ipython",
    "version": 2
   },
   "file_extension": ".py",
   "mimetype": "text/x-python",
   "name": "python",
   "nbconvert_exporter": "python",
   "pygments_lexer": "ipython2",
   "version": "2.7.6"
  },
  "pycharm": {
   "stem_cell": {
    "cell_type": "raw",
    "source": [],
    "metadata": {
     "collapsed": false
    }
   }
  }
 },
 "nbformat": 4,
 "nbformat_minor": 0
}
