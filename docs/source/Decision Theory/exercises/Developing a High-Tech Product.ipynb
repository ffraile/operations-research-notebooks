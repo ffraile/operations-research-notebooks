{
 "cells": [
  {
   "cell_type": "markdown",
   "metadata": {},
   "source": [
    "# Developing a High-Tech Product\n",
    "## Problem definition\n",
    "BIOSENS and TECHSENS, two competing firms, are developing a new state-of-the-art biomedical sensor, whose total sales will amount to 1,000 million dollars.\n",
    "Both must opt for using the most advanced ‘‘e1’’ or ‘‘e2’’ technology. Should both firms decide on the same technology, BIOSENS would obtain 60% of sales, since they know how to sell their products better than their competitor, which sells similar\n",
    "products. However, if both opt for different technologies, then TECHSENS would obtain a 60 % market share because it exploits differentiation better.\n",
    "\n",
    "**a)** Determine which strategy each firm should adopt"
   ]
  }
 ],
 "metadata": {
  "kernelspec": {
   "display_name": "Python 3",
   "language": "python",
   "name": "python3"
  },
  "language_info": {
   "codemirror_mode": {
    "name": "ipython",
    "version": 3
   },
   "file_extension": ".py",
   "mimetype": "text/x-python",
   "name": "python",
   "nbconvert_exporter": "python",
   "pygments_lexer": "ipython3",
   "version": "3.7.4"
  },
  "pycharm": {
   "stem_cell": {
    "cell_type": "raw",
    "source": [],
    "metadata": {
     "collapsed": false
    }
   }
  }
 },
 "nbformat": 4,
 "nbformat_minor": 2
}
