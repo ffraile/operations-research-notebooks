{
 "cells": [
  {
   "cell_type": "markdown",
   "metadata": {
    "collapsed": true,
    "pycharm": {
     "name": "#%% md\n"
    }
   },
   "source": [
    "# Playing Bluff\n",
    "## Problem definition\n",
    "Two students of EDEM, Jaime and Lucas, are playing a game named Bluff, that goes as follows. Jaime writes a number on a piece of paper. Without showing Lucas what he has written, he tells him what he wrote. Jaime might be lying or telling the truth. Then Lucas must guess if Jaime is lying or telling the truth, or he can choose to pass and not to continue playing. If Lucas discovers that Jaime lied, Jaime must pay Lucas €50. If Lucas wrongly accuses Jaime of lying, Lucas pays him €25. If Jaime told the truth and Lucas guesses this, then Jaime pays Lucas €5. If Jaime lied and Lucas does not guess that he lied, then Lucas pays Jaime €24. Should Lucas decide to pass, then neither player wins or loses anything.\n",
    "\n",
    "**a** Consider this a 2-player’s zero-sum game in game theory and write down the tabular representation.\n",
    "\n",
    "\n",
    "**b** How would you determine the game mean value and the mixed strategies of both players in this case?\n",
    "\n",
    "\n",
    "**c** Using the method seen in class to calculate the mixed strategies, a solver provides the following solution for Lucas (u1=0, u2=0, u3=0.02), where u1 is the decision variable associated to the alternative “Jaime lied”, u2 the decision variable associated to the alternative “Jaime told the truth” and u3 the decision variable associated to “Pass”. Write down the model and determine his optimal strategy."
   ]
  }
 ],
 "metadata": {
  "kernelspec": {
   "display_name": "Python 3",
   "language": "python",
   "name": "python3"
  },
  "language_info": {
   "codemirror_mode": {
    "name": "ipython",
    "version": 2
   },
   "file_extension": ".py",
   "mimetype": "text/x-python",
   "name": "python",
   "nbconvert_exporter": "python",
   "pygments_lexer": "ipython2",
   "version": "2.7.6"
  },
  "pycharm": {
   "stem_cell": {
    "cell_type": "raw",
    "source": [],
    "metadata": {
     "collapsed": false
    }
   }
  }
 },
 "nbformat": 4,
 "nbformat_minor": 0
}
