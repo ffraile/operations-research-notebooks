{
 "cells": [
  {
   "cell_type": "markdown",
   "metadata": {},
   "source": [
    "# Planning a factory site\n",
    "## Problem Definition\n",
    "Dinoco, a multinational firm in the automobile sector, is deciding on whether to build an assembly plant in Brazil or in Mississipi (USA). The cost to build this plant in Brazil is 10 million euros and the cost of building the plant in Mississippi is 20 million. However, if the firm builds the plant in Brazil and local demand drops over the following 5 years, the project will be stopped and the firm will lose 10M€ (and it will still have to build a plant in Mississippi). A priori, Dinoco believes that the probability of demand for cars dropping in Brazil over the following 5 years is 20%. For 1M€, Dinoco can hire a market research firm to analyse demand for cars in Brazil, which will indicate whether demand for cars will drop or not.\n",
    "The market research firm’s record indicates that his record shows that they are able to predict the occurrence of a drop in demand with a 95% success rate, and 90% when the demand does not drop.\n",
    "\n",
    "**a.** Draw the decision tree.\n",
    "\n",
    "**b.** Solve the tree and find the best alternative for Dinoco.\n",
    "\n",
    "**c.** Calculate the Imperfect Information Value and the Perfect Information Value associated to the market research (demand in Brazil)"
   ]
  }
 ],
 "metadata": {
  "kernelspec": {
   "display_name": "Python 3",
   "language": "python",
   "name": "python3"
  },
  "language_info": {
   "codemirror_mode": {
    "name": "ipython",
    "version": 3
   },
   "file_extension": ".py",
   "mimetype": "text/x-python",
   "name": "python",
   "nbconvert_exporter": "python",
   "pygments_lexer": "ipython3",
   "version": "3.7.4"
  }
 },
 "nbformat": 4,
 "nbformat_minor": 2
}
