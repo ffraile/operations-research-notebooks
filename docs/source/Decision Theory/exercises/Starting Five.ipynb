{
 "cells": [
  {
   "cell_type": "markdown",
   "metadata": {},
   "source": [
    "# Starting Five\n",
    "## Problem Definition\n",
    "You are the trainer of a basketball team playing an inter-university tournament over a weekend. You won the first game of the tournament yesterday, and now  you have to decide whether to play with the same starting 5 or make changes in the team. You want to assess your decision considering the possibilities of winning ($p_w$) or loosing($p_l$) the game and of having any player injured ($p_i$) or all healthy ($p_h$) after the game. Since it is a friendly tournament, your priority is that none of your classmates ends up injured, so you establish the following priorities between the utility values of the possible outcomes: v1 (victory – no injuries) > v2 (loose – no injuries) > v3 (win – any injured) > v4 (loose – any injured)."
   ]
  },
  {
   "cell_type": "markdown",
   "metadata": {},
   "source": [
    "**a.** Draw a decision tree indicating the probabilities and utility values of the possible outcomes, considering that the probability of winning or loosing and the probability of having any player injured or all healthy are independent and also independent of your decision to make changes in the team."
   ]
  },
  {
   "cell_type": "markdown",
   "metadata": {},
   "source": [
    "**b.**\tHow would the decision tree change if you consider that the probability of having any player injured is not independent of your decision to make changes?."
   ]
  }
 ],
 "metadata": {
  "kernelspec": {
   "display_name": "Python 3",
   "language": "python",
   "name": "python3"
  },
  "language_info": {
   "codemirror_mode": {
    "name": "ipython",
    "version": 3
   },
   "file_extension": ".py",
   "mimetype": "text/x-python",
   "name": "python",
   "nbconvert_exporter": "python",
   "pygments_lexer": "ipython3",
   "version": "3.7.4"
  },
  "pycharm": {
   "stem_cell": {
    "cell_type": "raw",
    "source": [],
    "metadata": {
     "collapsed": false
    }
   }
  }
 },
 "nbformat": 4,
 "nbformat_minor": 2
}
