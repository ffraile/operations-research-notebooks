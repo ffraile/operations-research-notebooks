{
 "cells": [
  {
   "cell_type": "markdown",
   "metadata": {},
   "source": [
    "# Products Improvement Strategy Between Competing Firms\n",
    "## Problem definition\n",
    "Two manufacturers, AdeFab1 and AdeFab2, compete for the sales of two different product lines which are equally profitable. In both cases, AdeFab2’s sales volume triples that of AdeFab1. Due to some technological advances, both manufacturers can make substantial improvements to the two products, but they are not sure as to which development and commercialisation strategy they should adopt.\n",
    "If the improvements to the two products are done at the same time, neither manufacturer can have them ready to sell under 12 months. One alternative is to carry out an ‘‘intensive programme’’ to first develop one of the two products and to try to commercialise it before the competition does. If this were the case, AdeFab2 can have one product ready to sell in 9 months, while AdeFab1 needs 10 months (due to previous commitments in its production installations). Either manufacturer can have the second product ready after another 9-month period.\n",
    "For either product line, if both manufacturers commercialised the improved models simultaneously, it is estimated that AdeFab1 can increase the percentage of all the future sales of this product by 8 % of the total (from 25 % to 33 %).\n",
    "Likewise, AdeFab1 can increase its total sales in 20, 30 and 40 % of the total if it commercialises the product 2, 6 and 8 months before AdeFab2 does, respectively.\n",
    "Moreover, AdeFab1 can lose 4, 10, 12 and 14 % of the total if AdeFab2 manages to commercialise it 1, 3, 7 and 10 month(s) before it, respectively.\n",
    "Formulate this problem as if it were a zero-sum game with two players and then establish the strategy the manufacturers must adopt according to the MiniMax criterion.\n"
   ]
  },
  {
   "cell_type": "code",
   "execution_count": null,
   "metadata": {},
   "outputs": [],
   "source": []
  }
 ],
 "metadata": {
  "kernelspec": {
   "display_name": "Python 3",
   "language": "python",
   "name": "python3"
  },
  "language_info": {
   "codemirror_mode": {
    "name": "ipython",
    "version": 3
   },
   "file_extension": ".py",
   "mimetype": "text/x-python",
   "name": "python",
   "nbconvert_exporter": "python",
   "pygments_lexer": "ipython3",
   "version": "3.7.4"
  },
  "pycharm": {
   "stem_cell": {
    "cell_type": "raw",
    "source": [],
    "metadata": {
     "collapsed": false
    }
   }
  }
 },
 "nbformat": 4,
 "nbformat_minor": 2
}
