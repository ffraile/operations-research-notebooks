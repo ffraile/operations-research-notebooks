{
 "cells": [
  {
   "cell_type": "markdown",
   "source": [
    "# Game Theory\n",
    "## Introduction\n",
    "Game theory comprises mathematical models that allows to analyse the strategies in the interaction between rational decision makers. Game theory is useful to analyse competition, conflict or collaboration between rational decision makers, modeling the interactions between several decision makers that make use of limited resources. \n",
    "\n",
    "Clearly, the concepts of *game* is cornerstone in game theory. A game is a structured representation of the incentives, either gains or losses of the decision players, also referred to as *players* in game theory. \n",
    "\n",
    "Moreover, the main concepts and characteristics of such games in game theory are: \n",
    "\n",
    "- **Players (Decision makers):** Two or more decision makers are involved, as mentioned above, they are referred as players. In general, game theory is used to model decisions between rational players, but we can apply the same mathematical principles to abstract concepts (e.g. game theory is widely used in biology to model intra or inter species competition)\n",
    "\n",
    "- **Consequences (Results):** The consequences of the decisions, the actions taken by the different decision makers and can be measured using a utility function. \n",
    "\n",
    "- **Different objectives** Players have different objectives in terms of the objective function, in fact, they can be the absolute opposite. For instance, one player may want to maximise the utility function at the expense of minimising the utility for the other player!\n",
    "\n",
    "- **Decision process:** In this unit, we will focus on games where the decision of the other player is unknown at the time of making the decision, i.e. all players must make a decision without knowing what the others have decided\n",
    "\n",
    "- **Game moves:** The decisions of players are referred to as game moves. Every time players decide, a **move** is made and this game has consequences for the players in terms of the utility function. That is, each move results in each player losing or gaining a specific amount in terms of the utility function. The game can be repeated by generating successive moves.\n",
    "\n",
    "## Going Dutch\n",
    "Let us see one example to understand why is decision theory important. In the research paper, The Inefficiency of Splitting the Bill [^1], the researches gathered different groups of people, within each group same demographics, and distribution, and brought them the same menu offering. Some groups were instructed to pay their own bill, some had to go dutch and some others were invited by the organisation. The researchers wanted to evaluate the impact in the cost of knowing that the diners would split the bill. The average price per person where: \n",
    "\n",
    "| Own bill | split the bill | invited |\n",
    "|----------|----------------|---------|\n",
    "|   37.3   |      50.9      |   82.3  |\n",
    "\n",
    "Not surprisingly, when the players *knew* that they were paying for their own bill, they were more conservative, and ordered less food than when they *knew* that they were invited by the organisation. What is surprising is that the average price when they were splitting the bill was somewhere in between. A conclusion that can be made is that diners *assumed* that other diners might be less conservative since they were sharing the costs, and consequently they also ordered more expensive items to compensate. The key concept here is that the decision of others has an impact on our decisions (also, and unrelated to game theory, it is more efficient to pay for your own bills). Game theory provides mathematical tools to model these interactions between rational players and systematically derive optimal, rational strategies when dealing with cooperation or collaboration between decision makers. \n",
    "\n",
    "## Tabular Representation\n",
    "In this introduction we will be dealing with games with two players, and will use the tabular representation of games thoroughly. The tabular representation is a representation of the game in a tabular form, similar to the pay-off matrix. \n",
    "Let us refer to the players as Player A and Player B. Let us assume that Player A has $m$ alternatives and that Player B has $n$ alternatives. The game is then referred to as a mxn game. The tabular representation is then a $mxn$ matrix where each row represents the alternatives of Player A and each column represents the alternatives of Player B. In each cell at row $i$ and column $j$, the tuple $(a_{ij}, b_{ij})$ represents: \n",
    "\n",
    "- $a_{ij}$: The gain in the utility for Player A when Player A selects alternative $i$ and Player B selects alternative $j$\n",
    "- $b_{ij}$: The gain in the utility for Player B when Player A selects alternative $i$ and Player B selects alternative $j$\n",
    "\n",
    "For instance, for a 2x2 game, the tabular representation is: \n",
    "\n",
    "| Player A/B | $b_1$ | $b_2$ |\n",
    "|----------|----------------|---------|\n",
    "|   $a_1$   |   $(a_{11}, b_{11})$   |   $(a_{12}, b_{12})$  |\n",
    "|   $a_2$   |   $(a_{21}, b_{21})$   |   $(a_{22}, b_{22})$  |\n",
    "\n",
    "## Zero-Sum Games\n",
    "Zero-Sum Games are 2 player games where the gain of one player is equal to the loss of the other player. That is: \n",
    "\n",
    "$a_{ij} = -b_{ij} \\quad \\forall i,j$\n",
    "\n",
    "Since both values are equivalent, Zero-Sum games can be represented in a more compact form as: \n",
    "\n",
    "| Player A/B | $b_1$ | $b_2$ |\n",
    "|----------|----------------|---------|\n",
    "|   $a_1$   |   $a_{11}$   |   $a_{12}$  |\n",
    "|   $a_2$   |   $a_{21}$   |   $a_{22}$  |\n",
    "\n",
    "\n",
    "[^1]: Gneezy, U., Haruvy, E., & Yafe, H. (2004). The inefficiency of splitting the bill. The Economic Journal, 114(495), 265-280. Available online: [https://academic.oup.com/ej/article/114/495/265/5086006?login=true](https://academic.oup.com/ej/article/114/495/265/5086006?login=true)\n",
    "\n",
    "\n",
    "\n",
    "  \n",
    "\n"
   ],
   "metadata": {
    "collapsed": false,
    "pycharm": {
     "name": "#%% md\n"
    }
   }
  }
 ],
 "metadata": {
  "kernelspec": {
   "display_name": "Python 3",
   "language": "python",
   "name": "python3"
  },
  "language_info": {
   "codemirror_mode": {
    "name": "ipython",
    "version": 2
   },
   "file_extension": ".py",
   "mimetype": "text/x-python",
   "name": "python",
   "nbconvert_exporter": "python",
   "pygments_lexer": "ipython2",
   "version": "2.7.6"
  },
  "pycharm": {
   "stem_cell": {
    "cell_type": "raw",
    "source": [],
    "metadata": {
     "collapsed": false
    }
   }
  }
 },
 "nbformat": 4,
 "nbformat_minor": 0
}
