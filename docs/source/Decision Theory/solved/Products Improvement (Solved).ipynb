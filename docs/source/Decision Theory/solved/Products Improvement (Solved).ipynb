{
 "cells": [
  {
   "cell_type": "markdown",
   "metadata": {
    "pycharm": {
     "name": "#%% md\n"
    }
   },
   "source": [
    "# Products Improvement Strategy Between Competing Firms\n",
    "## Problem definition\n",
    "Two manufacturers, AdeFab1 and AdeFab2, compete for the sales of two different product lines which are equally profitable. In both cases, AdeFab2’s sales volume triples that of AdeFab1. Due to some technological advances, both manufacturers can make substantial improvements to the two products, but they are not sure as to which development and commercialisation strategy they should adopt.\n",
    "If the improvements to the two products are done at the same time, neither manufacturer can have them ready to sell under 12 months. One alternative is to carry out an ‘‘intensive programme’’ to first develop one of the two products and to try to commercialise it before the competition does. If this were the case, AdeFab2 can have one product ready to sell in 9 months, while AdeFab1 needs 10 months (due to previous commitments in its production installations). Either manufacturer can have the second product ready after another 9-month period.\n",
    "For either product line, if both manufacturers commercialised the improved models simultaneously, it is estimated that AdeFab1 can increase the percentage of all the future sales of this product by 8 % of the total (from 25 % to 33 %).\n",
    "Likewise, AdeFab1 can increase its total sales in 20, 30 and 40 % of the total if it commercialises the product 2, 6 and 8 months before AdeFab2 does, respectively.\n",
    "Moreover, AdeFab1 can lose 4, 10, 12 and 14 % of the total if AdeFab2 manages to commercialise it 1, 3, 7 and 10 month(s) before it, respectively.\n",
    "Formulate this problem as if it were a zero-sum game with two players and then establish the strategy the manufacturers must adopt according to the MiniMax criterion.\n"
   ]
  },
  {
   "cell_type": "markdown",
   "metadata": {
    "pycharm": {
     "name": "#%% md\n"
    }
   },
   "source": [
    "## Solution\n",
    "The table below contains the pay-off matrix for both companies, including the calculations needed to calculate the costs and the MinMax criteria for each company.\n",
    "\n",
    "\n",
    "| AdeFab2 <br> AdeFab1                                           \t| Simultaneous Improvement <br> Prod 1: 12 months <br> Prod 2: 12 months \t| Intensive Programme A <br>Prod 1: 9 months <br>Prod 2: 18 months \t| Intensive Programme B <br>Prod 1: 18 months <br>Prod 2: 9 months \t| MinMax AdeFab1 \t|\n",
    "|------------------------------------------------------------\t|------------------------------------------------------------\t|----------------------------------------------------------\t|----------------------------------------------------------\t|----------------\t|\n",
    "| Simultaneous Improvement<br> Prod 1: 12 months <br>Prod 2: 12 months \t| Prod 1 (33) <br>Prod 2 (33) <br>33 + 33 = 66                       \t| Prod 1 (25-10 = 15) <br>Prod 2 (25+30 = 55)<br> 15 + 55 = 70     \t| Prod 1 (25+30 = 55) <br>Prod 2 (25-15 = 15)<br> 55 + 15 = 70     \t| 66 <-          \t|\n",
    "| Intensive Programme A <br>Prod 1: 10 months <br>Prod 2: 19 months  \t| Prod 1 (25+20 = 45) <br>Prod 2 (25-10 = 15) <br>45 + 15 = 60       \t| Prod 1 (25-4 = 21) <br>Prod 2 (25-4 = 21) <br>21 + 21 = 42       \t| Prod 1 (25+40 = 65) <br>Prod 2 (25-14 = 11) <br>65 + 11 = 76     \t| 42             \t|\n",
    "| Intensive Programme B <br>Prod 1: 19 months <br>Prod 2: 9 months   \t| Prod 1 (25-12 = 13) <br>Prod 2 (25+20 = 45) <br>13 + 45 = 58       \t| Prod 1 (25-14 = 11) <br>Prod 2 (25+40 = 65) <br>11 + 65 = 76     \t| Prod 1 (25-4 = 21) <br>Prod 2 (25-4 = 21) <br>21 + 21 = 42       \t| 42             \t|\n",
    "| MinMax  AdeFab2                                            \t| 66 <-                                                      \t| 76                                                       \t| 76                                                       \t|                \t|\n",
    "\n",
    "\n",
    "Each cell contains the percentage of sales for adeFab1, adding the percentage of sales for both products. The percentage of sales of each product depends on the difference in the time to market in each scenario. \n",
    "For instance, if both companies opt for simultaneous improvement, the products reach the market at the same time, and the percentage of sales for adeFab1 is 33% for the first product and 33% for the first product, which yields a total percentage of 66%.\n",
    "However, if AdeFab1 opts for simultaneous improvement, and AdeFab2 chooses the intensive program for product 1, AdeFab1 will lose 10% of the 25% market share of product 1, yielding 15%, whereas it will get a 30% extra for product 2, yielding 55%, and the sum of both products yields 15% + 55% = 70%. \n",
    "We can compute in a similar way the market shares in each scenario."
   ]
  },
  {
   "cell_type": "code",
   "execution_count": null,
   "metadata": {
    "pycharm": {
     "name": "#%%\n"
    }
   },
   "outputs": [],
   "source": []
  }
 ],
 "metadata": {
  "kernelspec": {
   "display_name": "Python 3",
   "language": "python",
   "name": "python3"
  },
  "language_info": {
   "codemirror_mode": {
    "name": "ipython",
    "version": 3
   },
   "file_extension": ".py",
   "mimetype": "text/x-python",
   "name": "python",
   "nbconvert_exporter": "python",
   "pygments_lexer": "ipython3",
   "version": "3.7.4"
  },
  "pycharm": {
   "stem_cell": {
    "cell_type": "raw",
    "source": [],
    "metadata": {
     "collapsed": false
    }
   }
  }
 },
 "nbformat": 4,
 "nbformat_minor": 2
}
