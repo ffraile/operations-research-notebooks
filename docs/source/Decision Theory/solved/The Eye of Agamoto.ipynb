{
 "cells": [
  {
   "cell_type": "markdown",
   "metadata": {
    "collapsed": true
   },
   "source": [
    "# The eye of Agamoto\n",
    "## Problem Definition\n",
    "Doctor Stephen Strange is the chief surgeon at the Metropolitan General Hospital in New York. Doctor Strange needs to decide whether to perform surgery or not on a patient with a rare disease. If the patient dies, the hospital must pay a 3M€ compensation, and the cost of the surgery is estimated in 1.5M€. Based on available data, the medical department estimates that the probability of the patient surviving without surgery is 20%, while the probability of the patient surviving with surgery is 75%. Let us use operational research to determine if Doctor Strange should hold the knife:\n",
    "\n",
    "**a.** Draw the decision tree to support doctor Strange with this decision problem\n",
    "The following image represents the decision tree for Doctor Strange:\n",
    "\n",
    "![Decision tree](img/eye_of_agamoto.png)\n",
    "\n",
    "The first node represents the decision of whether to perform surgery (at a cost of 1.M€) or not. In both branches, the random nodes\n",
    "represent the event of the patient surviving the procedure. Note that the probabilities of surviving the surgery are different\n",
    "in both branches, because they are conditioned on whether the operation is performed or not. \n",
    "\n",
    "Also note that the value if the patient survives is 0 while the value if the patient passes away is -3M€ in both cases.\n",
    "\n",
    "\n",
    "**b.** Solve the decision tree\n",
    "Let us solve the tree from right to left. If Strange performs the operation, the value of the random node (in M€) is: \n",
    "\n",
    "$V_2 = 0.75*0 + 0.25*-3 = -3/4$\n",
    "\n",
    "And, if he does not, the value of the random node is: \n",
    "\n",
    "$V_5 = 0.2*0 + 0.8*-3 = -4*3/5$\n",
    "\n",
    "Now, the value of the decision node is going to be the maximum taking into account the cost:\n",
    "\n",
    "$V_1 = \\max(V_2 - 1.5, v_5) = \\max(-3/4-3/2, -4*3/5) = \\max(-9/4, -12/5) = -9/4$\n",
    "\n",
    "So, the best alternative for Dr. Strange is to perform the operation. \n",
    "\n",
    "**c.** Doctor Strange can use a procedure with a device known as the Eye of Agamoto to get additional information of the result of the surgery, with a cost of 0.5M€. Draw the decision tree incorporating the use of the Eye of Agamoto in the decision problem\n",
    "Now, the following diagram represents the decision with additional information provided by the Eye of Agamoto:\n",
    "\n",
    "If Dr. Strange decides not to use the Eye of Agamoto, the decision tree looks exactly the same as in the previous section, because the decision process will be equivalent.\n",
    "\n",
    "If Dr. Strange decides to use the Eye of Agamoto, we can model the result of the prediction provided by this tool as a random node with two possible states: \n",
    "\n",
    "- Survival predicted (sp): The eye of Agamoto will predict that the patient survives the operation with probability $P(sp)$\n",
    "- Death predicted (sp): The eye of Agamoto will predict that the patient does not survive the operation with probability $P(sp)$\n",
    "\n",
    "Since the Eye of Agamoto provides additional information about the result of the procedure, we need to plug in the revised probabilities in the branches where Dr. Strange decides to perform the procedure, but the probabilities without surgery remain the same.\n",
    "\n",
    "![Decision Tree with additional info](img/eye_of_agamoto_additional_info.png)\n",
    " \n",
    "\n"
   ]
  }
 ],
 "metadata": {
  "kernelspec": {
   "display_name": "Python 3",
   "language": "python",
   "name": "python3"
  },
  "language_info": {
   "codemirror_mode": {
    "name": "ipython",
    "version": 2
   },
   "file_extension": ".py",
   "mimetype": "text/x-python",
   "name": "python",
   "nbconvert_exporter": "python",
   "pygments_lexer": "ipython2",
   "version": "2.7.6"
  },
  "pycharm": {
   "stem_cell": {
    "cell_type": "raw",
    "source": [],
    "metadata": {
     "collapsed": false
    }
   }
  }
 },
 "nbformat": 4,
 "nbformat_minor": 0
}
