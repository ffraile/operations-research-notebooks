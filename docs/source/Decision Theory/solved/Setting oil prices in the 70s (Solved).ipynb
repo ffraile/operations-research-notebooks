{
 "cells": [
  {
   "cell_type": "markdown",
   "metadata": {},
   "source": [
    "# Setting oil prices in the 70s\n",
    "In the 1970s, the OPEP countries adopted a price-linking strategy and oil prices went from €3/barrel to a level above €30/barrel. Analysts foresaw that prices could rise to over €100/barrel by the end of the twentieth century. Unexpectedly however, the cartel failed and prices went down again. Therefore, what are the conditions for these cartels to survive? In other words, what determines the equilibrium between cooperation and competition? This problem is similar to the prisoner’s dilemma.\n",
    "\n",
    "To simplify matters, it is assumed that only two producers exist, Saudi Arabia and Iran, and that there are only three possible production levels: 2, 4 and 6 million barrels/day. So, depending on the two players’ decisions, total world production is 4, 6, 8, 10 and 12 million barrels/day. Accordingly, world prices are 35, 30, 25, 15 or only 10€/barrel. The production costs of one barrel are considered to be €2 for Saudi Arabia and €4 for Iran.\n",
    "\n",
    "**a)** The intention is to maximise the difference between the profit of a producer and that of its competitor. Consider and solve the case as if it were a zero-sum game with two players.\n",
    "\n",
    "**b)** If the idea is to seek OPEP’s prime objective by avoiding mutual competition and regulating oil production, sales and prices, what is the best option for Saudi Arabia and for Iran if they cooperate with each other and try to\n",
    "simultaneously obtain the best profit each?"
   ]
  },
  {
   "cell_type": "markdown",
   "metadata": {},
   "source": [
    "## Solution\n",
    "\n",
    "**a)** Pay-off Matrix: \n",
    "\n",
    "\n",
    "| b) Iran <br> a) Saudi Arabia  \t | 2 million barrels / day \t | 4 million barrels / day \t | 6 million barrels/ day \t   | Saudi Arabia <br>Minimax \t |\n",
    "|---------------------------------|---------------------------|---------------------------|----------------------------|----------------------------|\n",
    "| 2 million barrels day   \t       | 4                       \t | -48                     \t | -80                    \t   | -80                      \t |\n",
    "| 4 million barrels / day \t       | 60                      \t | 8                       \t | -14                    \t   | -14                      \t |\n",
    "| 6 million barrels / day \t       | 96                      \t | 34                      \t | 12                     \t   | 12 <-                    \t |\n",
    "| Iran MiniMax            \t       | 96                    \t   | 34                      \t | 12 <-                    \t | \t                          |\n",
    "\n",
    "\n",
    "This is a Pure Strategy Game. Thus, even though the dominated strategies are eliminated and the MiniMax approach is used, the production level of 6 million barrels/day will always be more profitable for Saudi Arabia. When both players adopt a dominant strategy, which is a production of 6 million barrels/day in this case, the players gain 48 and 36 million dollars, respectively.\n",
    "\n",
    "**b)** OPEP's Pay-off Matrix: \n",
    "\n",
    "\n",
    "| b) Iran <br> a) Saudi Arabia  \t | 2 million barrels / day \t     | 4 million barrels / day \t     | 6 million barrels/ day \t                       |\n",
    "|---------------------------------|-------------------------------|-------------------------------|------------------------------------------------|\n",
    "| 2 million barrels day   \t       | 66/62                       \t | 56/104                     \t  | 46/126                    \t                  \t |\n",
    "| 4 million barrels / day \t       | 112/52                      \t | 92/84                       \t | 52/66                    \t                \t    |\n",
    "| 6 million barrels / day \t       | 138/42                      \t | 78/44                      \t  | 48/36                     \t                    |\n",
    "\n",
    "The best option is that which offers the best profit to them both at the same\n",
    "time; that is, production of 4 million barrels/day, which implies profits of 92 and 84 million dollars for Saudi Arabia and Iran, respectively."
   ]
  }
 ],
 "metadata": {
  "kernelspec": {
   "display_name": "Python 3",
   "language": "python",
   "name": "python3"
  },
  "language_info": {
   "codemirror_mode": {
    "name": "ipython",
    "version": 3
   },
   "file_extension": ".py",
   "mimetype": "text/x-python",
   "name": "python",
   "nbconvert_exporter": "python",
   "pygments_lexer": "ipython3",
   "version": "3.7.4"
  },
  "pycharm": {
   "stem_cell": {
    "cell_type": "raw",
    "source": [],
    "metadata": {
     "collapsed": false
    }
   }
  }
 },
 "nbformat": 4,
 "nbformat_minor": 2
}
