{
 "cells": [
  {
   "cell_type": "markdown",
   "metadata": {},
   "source": [
    "# Developing a High-Tech Product\n",
    "## Problem definition\n",
    "BIOSENS and TECHSENS, two competing firms, are developing a new state-of-the-art biomedical sensor, whose total sales will amount to 1,000 million dollars.\n",
    "Both must opt for using the most advanced ‘‘e1’’ or ‘‘e2’’ technology. Should both firms decide on the same technology, BIOSENS would obtain 60% of sales, since they know how to sell their products better than their competitor, which sells similar products. However, if both opt for different technologies, then TECHSENS would obtain a 60 % market share because it exploits differentiation better.\n",
    "\n",
    "**a)** Determine which strategy each firm should adopt"
   ]
  },
  {
   "cell_type": "markdown",
   "metadata": {},
   "source": [
    "Pay-off Matrix:\n",
    "\n",
    "\n",
    "| Techsens <br> Biosens \t | e1 \t | e2  \t | \t     |\n",
    "|-------------------------|------|-------|-------|\n",
    "| e1                    \t | 60 \t | 40  \t | p   \t |\n",
    "| e2                    \t | 40 \t | 60  \t | 1-p \t |\n",
    "| \t                       | q  \t | 1-q \t | \t     |\n",
    "\n",
    "$v = 60·p·q + 40·p·(1-q) + 40·q·(1-p)+60·(1-p)·(1-q)$\n",
    "\n",
    "Player A Strategy:\n",
    "\n",
    "$q=1$\n",
    "\n",
    "$60·p+40·(1-p)$\n",
    "\n",
    "$q=0$\n",
    "\n",
    "$40·p+60·(1-p)$\n",
    "\n",
    "$20·p+40=-20·p+60$\n",
    "\n",
    "$p=20/40=0.5$\n",
    "\n",
    "Player B Strategy:\n",
    "\n",
    "$p=1$\n",
    "\n",
    "$60·q+40·(1-q)$\n",
    "\n",
    "$q=0$\n",
    "\n",
    "$40·q+60·(1-q)$\n",
    "\n",
    "$20·q+40=-20·q+60$\n",
    "\n",
    "$q=20/40=0.5$\n",
    "\n",
    "EMV = 200·0.5·0.5 = 50% = 500M€ each\n",
    "\n"
   ]
  }
 ],
 "metadata": {
  "kernelspec": {
   "display_name": "Python 3",
   "language": "python",
   "name": "python3"
  },
  "language_info": {
   "codemirror_mode": {
    "name": "ipython",
    "version": 3
   },
   "file_extension": ".py",
   "mimetype": "text/x-python",
   "name": "python",
   "nbconvert_exporter": "python",
   "pygments_lexer": "ipython3",
   "version": "3.7.4"
  },
  "pycharm": {
   "stem_cell": {
    "cell_type": "raw",
    "source": [],
    "metadata": {
     "collapsed": false
    }
   }
  }
 },
 "nbformat": 4,
 "nbformat_minor": 2
}
